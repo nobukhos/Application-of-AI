{
 "cells": [
  {
   "cell_type": "code",
   "execution_count": 1,
   "metadata": {},
   "outputs": [],
   "source": [
    "import numpy as np\n",
    "import pandas as pd\n",
    "import matplotlib.pyplot as plt\n",
    "import seaborn as sns"
   ]
  },
  {
   "cell_type": "code",
   "execution_count": 2,
   "metadata": {},
   "outputs": [],
   "source": [
    "# Read all data \n",
    "A = pd.read_html('Report16Jul2021121540.html')\n",
    "#A"
   ]
  },
  {
   "cell_type": "code",
   "execution_count": 3,
   "metadata": {},
   "outputs": [],
   "source": [
    "# choosing the data that we will use \n",
    "A1=A[11]\n",
    "#A1"
   ]
  },
  {
   "cell_type": "code",
   "execution_count": 4,
   "metadata": {},
   "outputs": [],
   "source": [
    "# changing the first row to be a header for all data\n",
    "new_header1 = A1.iloc[0] #grab the first row for the header\n",
    "A2 = A1[365:514] #take the data less the header row\n",
    "A2.columns = new_header1 #set the header row as the df header\n",
    "A2 = A2.reset_index(drop=True) #reseting indexes\n",
    "#A2"
   ]
  },
  {
   "cell_type": "code",
   "execution_count": 5,
   "metadata": {},
   "outputs": [
    {
     "data": {
      "text/html": [
       "<div>\n",
       "<style scoped>\n",
       "    .dataframe tbody tr th:only-of-type {\n",
       "        vertical-align: middle;\n",
       "    }\n",
       "\n",
       "    .dataframe tbody tr th {\n",
       "        vertical-align: top;\n",
       "    }\n",
       "\n",
       "    .dataframe thead th {\n",
       "        text-align: right;\n",
       "    }\n",
       "</style>\n",
       "<table border=\"1\" class=\"dataframe\">\n",
       "  <thead>\n",
       "    <tr style=\"text-align: right;\">\n",
       "      <th></th>\n",
       "      <th>Date</th>\n",
       "      <th>High</th>\n",
       "      <th>Low</th>\n",
       "      <th>Open</th>\n",
       "      <th>Close</th>\n",
       "      <th>Volume</th>\n",
       "      <th>InterestYield</th>\n",
       "      <th>CapitalPaymentYield</th>\n",
       "      <th>TotalDistributionYield</th>\n",
       "      <th>EY</th>\n",
       "      <th>P/E</th>\n",
       "      <th>DY</th>\n",
       "    </tr>\n",
       "  </thead>\n",
       "  <tbody>\n",
       "    <tr>\n",
       "      <th>0</th>\n",
       "      <td>31 Jan 2020</td>\n",
       "      <td>11748</td>\n",
       "      <td>11426</td>\n",
       "      <td>11460</td>\n",
       "      <td>11604</td>\n",
       "      <td>1624680</td>\n",
       "      <td>0.00</td>\n",
       "      <td>0.00</td>\n",
       "      <td>0.00</td>\n",
       "      <td>10.58</td>\n",
       "      <td>9.45</td>\n",
       "      <td>0.00</td>\n",
       "    </tr>\n",
       "    <tr>\n",
       "      <th>1</th>\n",
       "      <td>30 Jan 2020</td>\n",
       "      <td>11784</td>\n",
       "      <td>11325</td>\n",
       "      <td>11450</td>\n",
       "      <td>11714</td>\n",
       "      <td>811973</td>\n",
       "      <td>0.00</td>\n",
       "      <td>0.00</td>\n",
       "      <td>0.00</td>\n",
       "      <td>10.48</td>\n",
       "      <td>9.54</td>\n",
       "      <td>0.00</td>\n",
       "    </tr>\n",
       "    <tr>\n",
       "      <th>2</th>\n",
       "      <td>29 Jan 2020</td>\n",
       "      <td>11669</td>\n",
       "      <td>11296</td>\n",
       "      <td>11431</td>\n",
       "      <td>11499</td>\n",
       "      <td>716184</td>\n",
       "      <td>0.00</td>\n",
       "      <td>0.00</td>\n",
       "      <td>0.00</td>\n",
       "      <td>10.68</td>\n",
       "      <td>9.37</td>\n",
       "      <td>0.00</td>\n",
       "    </tr>\n",
       "    <tr>\n",
       "      <th>3</th>\n",
       "      <td>28 Jan 2020</td>\n",
       "      <td>11699</td>\n",
       "      <td>11329</td>\n",
       "      <td>11635</td>\n",
       "      <td>11541</td>\n",
       "      <td>725082</td>\n",
       "      <td>0.00</td>\n",
       "      <td>0.00</td>\n",
       "      <td>0.00</td>\n",
       "      <td>10.64</td>\n",
       "      <td>9.40</td>\n",
       "      <td>0.00</td>\n",
       "    </tr>\n",
       "    <tr>\n",
       "      <th>4</th>\n",
       "      <td>27 Jan 2020</td>\n",
       "      <td>11766</td>\n",
       "      <td>11400</td>\n",
       "      <td>11505</td>\n",
       "      <td>11630</td>\n",
       "      <td>591011</td>\n",
       "      <td>0.00</td>\n",
       "      <td>0.00</td>\n",
       "      <td>0.00</td>\n",
       "      <td>10.56</td>\n",
       "      <td>9.47</td>\n",
       "      <td>0.00</td>\n",
       "    </tr>\n",
       "    <tr>\n",
       "      <th>...</th>\n",
       "      <td>...</td>\n",
       "      <td>...</td>\n",
       "      <td>...</td>\n",
       "      <td>...</td>\n",
       "      <td>...</td>\n",
       "      <td>...</td>\n",
       "      <td>...</td>\n",
       "      <td>...</td>\n",
       "      <td>...</td>\n",
       "      <td>...</td>\n",
       "      <td>...</td>\n",
       "      <td>...</td>\n",
       "    </tr>\n",
       "    <tr>\n",
       "      <th>144</th>\n",
       "      <td>05 Jul 2019</td>\n",
       "      <td>10289</td>\n",
       "      <td>9662</td>\n",
       "      <td>10101</td>\n",
       "      <td>9964</td>\n",
       "      <td>3938046</td>\n",
       "      <td>0.00</td>\n",
       "      <td>0.00</td>\n",
       "      <td>2.53</td>\n",
       "      <td>13.50</td>\n",
       "      <td>7.41</td>\n",
       "      <td>2.53</td>\n",
       "    </tr>\n",
       "    <tr>\n",
       "      <th>145</th>\n",
       "      <td>04 Jul 2019</td>\n",
       "      <td>10476</td>\n",
       "      <td>10202</td>\n",
       "      <td>10320</td>\n",
       "      <td>10476</td>\n",
       "      <td>813494</td>\n",
       "      <td>0.00</td>\n",
       "      <td>0.00</td>\n",
       "      <td>2.41</td>\n",
       "      <td>12.84</td>\n",
       "      <td>7.79</td>\n",
       "      <td>2.41</td>\n",
       "    </tr>\n",
       "    <tr>\n",
       "      <th>146</th>\n",
       "      <td>03 Jul 2019</td>\n",
       "      <td>10324</td>\n",
       "      <td>10064</td>\n",
       "      <td>10205</td>\n",
       "      <td>10324</td>\n",
       "      <td>775221</td>\n",
       "      <td>0.00</td>\n",
       "      <td>0.00</td>\n",
       "      <td>2.44</td>\n",
       "      <td>13.03</td>\n",
       "      <td>7.68</td>\n",
       "      <td>2.44</td>\n",
       "    </tr>\n",
       "    <tr>\n",
       "      <th>147</th>\n",
       "      <td>02 Jul 2019</td>\n",
       "      <td>10538</td>\n",
       "      <td>10069</td>\n",
       "      <td>10500</td>\n",
       "      <td>10298</td>\n",
       "      <td>886286</td>\n",
       "      <td>0.00</td>\n",
       "      <td>0.00</td>\n",
       "      <td>2.45</td>\n",
       "      <td>13.06</td>\n",
       "      <td>7.66</td>\n",
       "      <td>2.45</td>\n",
       "    </tr>\n",
       "    <tr>\n",
       "      <th>148</th>\n",
       "      <td>01 Jul 2019</td>\n",
       "      <td>10660</td>\n",
       "      <td>10136</td>\n",
       "      <td>10188</td>\n",
       "      <td>10465</td>\n",
       "      <td>1949952</td>\n",
       "      <td>0.00</td>\n",
       "      <td>0.00</td>\n",
       "      <td>2.41</td>\n",
       "      <td>12.85</td>\n",
       "      <td>7.78</td>\n",
       "      <td>2.41</td>\n",
       "    </tr>\n",
       "  </tbody>\n",
       "</table>\n",
       "<p>149 rows × 12 columns</p>\n",
       "</div>"
      ],
      "text/plain": [
       "0           Date   High    Low   Open  Close   Volume InterestYield  \\\n",
       "0    31 Jan 2020  11748  11426  11460  11604  1624680          0.00   \n",
       "1    30 Jan 2020  11784  11325  11450  11714   811973          0.00   \n",
       "2    29 Jan 2020  11669  11296  11431  11499   716184          0.00   \n",
       "3    28 Jan 2020  11699  11329  11635  11541   725082          0.00   \n",
       "4    27 Jan 2020  11766  11400  11505  11630   591011          0.00   \n",
       "..           ...    ...    ...    ...    ...      ...           ...   \n",
       "144  05 Jul 2019  10289   9662  10101   9964  3938046          0.00   \n",
       "145  04 Jul 2019  10476  10202  10320  10476   813494          0.00   \n",
       "146  03 Jul 2019  10324  10064  10205  10324   775221          0.00   \n",
       "147  02 Jul 2019  10538  10069  10500  10298   886286          0.00   \n",
       "148  01 Jul 2019  10660  10136  10188  10465  1949952          0.00   \n",
       "\n",
       "0   CapitalPaymentYield TotalDistributionYield     EY   P/E    DY  \n",
       "0                  0.00                   0.00  10.58  9.45  0.00  \n",
       "1                  0.00                   0.00  10.48  9.54  0.00  \n",
       "2                  0.00                   0.00  10.68  9.37  0.00  \n",
       "3                  0.00                   0.00  10.64  9.40  0.00  \n",
       "4                  0.00                   0.00  10.56  9.47  0.00  \n",
       "..                  ...                    ...    ...   ...   ...  \n",
       "144                0.00                   2.53  13.50  7.41  2.53  \n",
       "145                0.00                   2.41  12.84  7.79  2.41  \n",
       "146                0.00                   2.44  13.03  7.68  2.44  \n",
       "147                0.00                   2.45  13.06  7.66  2.45  \n",
       "148                0.00                   2.41  12.85  7.78  2.41  \n",
       "\n",
       "[149 rows x 12 columns]"
      ]
     },
     "execution_count": 5,
     "metadata": {},
     "output_type": "execute_result"
    }
   ],
   "source": [
    "Indicator = A2.copy()\n",
    "Indicator"
   ]
  },
  {
   "cell_type": "code",
   "execution_count": 6,
   "metadata": {},
   "outputs": [
    {
     "data": {
      "text/html": [
       "<div>\n",
       "<style scoped>\n",
       "    .dataframe tbody tr th:only-of-type {\n",
       "        vertical-align: middle;\n",
       "    }\n",
       "\n",
       "    .dataframe tbody tr th {\n",
       "        vertical-align: top;\n",
       "    }\n",
       "\n",
       "    .dataframe thead th {\n",
       "        text-align: right;\n",
       "    }\n",
       "</style>\n",
       "<table border=\"1\" class=\"dataframe\">\n",
       "  <thead>\n",
       "    <tr style=\"text-align: right;\">\n",
       "      <th></th>\n",
       "      <th>Date</th>\n",
       "      <th>High</th>\n",
       "      <th>Low</th>\n",
       "      <th>Open</th>\n",
       "      <th>Close</th>\n",
       "      <th>Volume</th>\n",
       "      <th>InterestYield</th>\n",
       "      <th>CapitalPaymentYield</th>\n",
       "      <th>TotalDistributionYield</th>\n",
       "      <th>EY</th>\n",
       "      <th>P/E</th>\n",
       "      <th>DY</th>\n",
       "    </tr>\n",
       "  </thead>\n",
       "  <tbody>\n",
       "    <tr>\n",
       "      <th>0</th>\n",
       "      <td>2020-01-31</td>\n",
       "      <td>11748</td>\n",
       "      <td>11426</td>\n",
       "      <td>11460</td>\n",
       "      <td>11604</td>\n",
       "      <td>1624680</td>\n",
       "      <td>0.00</td>\n",
       "      <td>0.00</td>\n",
       "      <td>0.00</td>\n",
       "      <td>10.58</td>\n",
       "      <td>9.45</td>\n",
       "      <td>0.00</td>\n",
       "    </tr>\n",
       "    <tr>\n",
       "      <th>1</th>\n",
       "      <td>2020-01-30</td>\n",
       "      <td>11784</td>\n",
       "      <td>11325</td>\n",
       "      <td>11450</td>\n",
       "      <td>11714</td>\n",
       "      <td>811973</td>\n",
       "      <td>0.00</td>\n",
       "      <td>0.00</td>\n",
       "      <td>0.00</td>\n",
       "      <td>10.48</td>\n",
       "      <td>9.54</td>\n",
       "      <td>0.00</td>\n",
       "    </tr>\n",
       "    <tr>\n",
       "      <th>2</th>\n",
       "      <td>2020-01-29</td>\n",
       "      <td>11669</td>\n",
       "      <td>11296</td>\n",
       "      <td>11431</td>\n",
       "      <td>11499</td>\n",
       "      <td>716184</td>\n",
       "      <td>0.00</td>\n",
       "      <td>0.00</td>\n",
       "      <td>0.00</td>\n",
       "      <td>10.68</td>\n",
       "      <td>9.37</td>\n",
       "      <td>0.00</td>\n",
       "    </tr>\n",
       "    <tr>\n",
       "      <th>3</th>\n",
       "      <td>2020-01-28</td>\n",
       "      <td>11699</td>\n",
       "      <td>11329</td>\n",
       "      <td>11635</td>\n",
       "      <td>11541</td>\n",
       "      <td>725082</td>\n",
       "      <td>0.00</td>\n",
       "      <td>0.00</td>\n",
       "      <td>0.00</td>\n",
       "      <td>10.64</td>\n",
       "      <td>9.40</td>\n",
       "      <td>0.00</td>\n",
       "    </tr>\n",
       "    <tr>\n",
       "      <th>4</th>\n",
       "      <td>2020-01-27</td>\n",
       "      <td>11766</td>\n",
       "      <td>11400</td>\n",
       "      <td>11505</td>\n",
       "      <td>11630</td>\n",
       "      <td>591011</td>\n",
       "      <td>0.00</td>\n",
       "      <td>0.00</td>\n",
       "      <td>0.00</td>\n",
       "      <td>10.56</td>\n",
       "      <td>9.47</td>\n",
       "      <td>0.00</td>\n",
       "    </tr>\n",
       "    <tr>\n",
       "      <th>...</th>\n",
       "      <td>...</td>\n",
       "      <td>...</td>\n",
       "      <td>...</td>\n",
       "      <td>...</td>\n",
       "      <td>...</td>\n",
       "      <td>...</td>\n",
       "      <td>...</td>\n",
       "      <td>...</td>\n",
       "      <td>...</td>\n",
       "      <td>...</td>\n",
       "      <td>...</td>\n",
       "      <td>...</td>\n",
       "    </tr>\n",
       "    <tr>\n",
       "      <th>144</th>\n",
       "      <td>2019-07-05</td>\n",
       "      <td>10289</td>\n",
       "      <td>9662</td>\n",
       "      <td>10101</td>\n",
       "      <td>9964</td>\n",
       "      <td>3938046</td>\n",
       "      <td>0.00</td>\n",
       "      <td>0.00</td>\n",
       "      <td>2.53</td>\n",
       "      <td>13.50</td>\n",
       "      <td>7.41</td>\n",
       "      <td>2.53</td>\n",
       "    </tr>\n",
       "    <tr>\n",
       "      <th>145</th>\n",
       "      <td>2019-07-04</td>\n",
       "      <td>10476</td>\n",
       "      <td>10202</td>\n",
       "      <td>10320</td>\n",
       "      <td>10476</td>\n",
       "      <td>813494</td>\n",
       "      <td>0.00</td>\n",
       "      <td>0.00</td>\n",
       "      <td>2.41</td>\n",
       "      <td>12.84</td>\n",
       "      <td>7.79</td>\n",
       "      <td>2.41</td>\n",
       "    </tr>\n",
       "    <tr>\n",
       "      <th>146</th>\n",
       "      <td>2019-07-03</td>\n",
       "      <td>10324</td>\n",
       "      <td>10064</td>\n",
       "      <td>10205</td>\n",
       "      <td>10324</td>\n",
       "      <td>775221</td>\n",
       "      <td>0.00</td>\n",
       "      <td>0.00</td>\n",
       "      <td>2.44</td>\n",
       "      <td>13.03</td>\n",
       "      <td>7.68</td>\n",
       "      <td>2.44</td>\n",
       "    </tr>\n",
       "    <tr>\n",
       "      <th>147</th>\n",
       "      <td>2019-07-02</td>\n",
       "      <td>10538</td>\n",
       "      <td>10069</td>\n",
       "      <td>10500</td>\n",
       "      <td>10298</td>\n",
       "      <td>886286</td>\n",
       "      <td>0.00</td>\n",
       "      <td>0.00</td>\n",
       "      <td>2.45</td>\n",
       "      <td>13.06</td>\n",
       "      <td>7.66</td>\n",
       "      <td>2.45</td>\n",
       "    </tr>\n",
       "    <tr>\n",
       "      <th>148</th>\n",
       "      <td>2019-07-01</td>\n",
       "      <td>10660</td>\n",
       "      <td>10136</td>\n",
       "      <td>10188</td>\n",
       "      <td>10465</td>\n",
       "      <td>1949952</td>\n",
       "      <td>0.00</td>\n",
       "      <td>0.00</td>\n",
       "      <td>2.41</td>\n",
       "      <td>12.85</td>\n",
       "      <td>7.78</td>\n",
       "      <td>2.41</td>\n",
       "    </tr>\n",
       "  </tbody>\n",
       "</table>\n",
       "<p>149 rows × 12 columns</p>\n",
       "</div>"
      ],
      "text/plain": [
       "0         Date   High    Low   Open  Close   Volume InterestYield  \\\n",
       "0   2020-01-31  11748  11426  11460  11604  1624680          0.00   \n",
       "1   2020-01-30  11784  11325  11450  11714   811973          0.00   \n",
       "2   2020-01-29  11669  11296  11431  11499   716184          0.00   \n",
       "3   2020-01-28  11699  11329  11635  11541   725082          0.00   \n",
       "4   2020-01-27  11766  11400  11505  11630   591011          0.00   \n",
       "..         ...    ...    ...    ...    ...      ...           ...   \n",
       "144 2019-07-05  10289   9662  10101   9964  3938046          0.00   \n",
       "145 2019-07-04  10476  10202  10320  10476   813494          0.00   \n",
       "146 2019-07-03  10324  10064  10205  10324   775221          0.00   \n",
       "147 2019-07-02  10538  10069  10500  10298   886286          0.00   \n",
       "148 2019-07-01  10660  10136  10188  10465  1949952          0.00   \n",
       "\n",
       "0   CapitalPaymentYield TotalDistributionYield     EY   P/E    DY  \n",
       "0                  0.00                   0.00  10.58  9.45  0.00  \n",
       "1                  0.00                   0.00  10.48  9.54  0.00  \n",
       "2                  0.00                   0.00  10.68  9.37  0.00  \n",
       "3                  0.00                   0.00  10.64  9.40  0.00  \n",
       "4                  0.00                   0.00  10.56  9.47  0.00  \n",
       "..                  ...                    ...    ...   ...   ...  \n",
       "144                0.00                   2.53  13.50  7.41  2.53  \n",
       "145                0.00                   2.41  12.84  7.79  2.41  \n",
       "146                0.00                   2.44  13.03  7.68  2.44  \n",
       "147                0.00                   2.45  13.06  7.66  2.45  \n",
       "148                0.00                   2.41  12.85  7.78  2.41  \n",
       "\n",
       "[149 rows x 12 columns]"
      ]
     },
     "execution_count": 6,
     "metadata": {},
     "output_type": "execute_result"
    }
   ],
   "source": [
    "Indicator['Date'] = pd.to_datetime(Indicator.Date) #changing date format\n",
    "Indicator"
   ]
  },
  {
   "cell_type": "code",
   "execution_count": 7,
   "metadata": {},
   "outputs": [],
   "source": [
    "#making all digits to be float for calculation\n",
    "Indicator['High']=Indicator.High.astype('float')\n",
    "Indicator['Close']=Indicator.Close.astype('float')\n",
    "Indicator['Low']=Indicator.Low.astype('float')\n",
    "Indicator['Open']=Indicator.Open.astype('float')"
   ]
  },
  {
   "cell_type": "code",
   "execution_count": 8,
   "metadata": {},
   "outputs": [],
   "source": [
    "#deleting columns not neccessary fot indicator calculation\n",
    "del Indicator['Volume'],Indicator['TotalDistributionYield'], Indicator['InterestYield'], Indicator['CapitalPaymentYield'], Indicator['EY'], Indicator['DY'], Indicator['P/E']\n",
    "#Indicator"
   ]
  },
  {
   "cell_type": "code",
   "execution_count": 9,
   "metadata": {},
   "outputs": [
    {
     "data": {
      "text/plain": [
       "count      149.000000\n",
       "mean     10180.832215\n",
       "std       1581.101734\n",
       "min       6500.000000\n",
       "25%       9000.000000\n",
       "50%      10476.000000\n",
       "75%      11630.000000\n",
       "max      12490.000000\n",
       "Name: Close, dtype: float64"
      ]
     },
     "execution_count": 9,
     "metadata": {},
     "output_type": "execute_result"
    }
   ],
   "source": [
    "#descriptive statistics\n",
    "Indicator[\"Close\"].describe()"
   ]
  },
  {
   "cell_type": "code",
   "execution_count": 10,
   "metadata": {},
   "outputs": [],
   "source": [
    "def RSI(value):\n",
    "    '''\n",
    "    The function calculates the relative strength index parameters \n",
    "    to be used to calculate 14_day rsi values\n",
    "    '''\n",
    "    up = value[value>0].mean()\n",
    "    down = -value[value<0].mean()\n",
    "    return (100 * up / (up + down))\n",
    "\n",
    "Indicator['Direction'] = (Indicator['Close'] - Indicator['Close'].shift(1)) #adding momentum\n",
    "Indicator['RSI_14D'] = Indicator['Direction'].rolling(center=False, window=14).apply(RSI) #14D RSI"
   ]
  },
  {
   "cell_type": "code",
   "execution_count": 11,
   "metadata": {},
   "outputs": [],
   "source": [
    "#Indicator['RSI_14D']"
   ]
  },
  {
   "cell_type": "code",
   "execution_count": 12,
   "metadata": {},
   "outputs": [],
   "source": [
    "l = []\n",
    "for i in range (len(Indicator)):\n",
    "    if Indicator['RSI_14D'][i] >= 28 and Indicator['RSI_14D'][i] <= 30: #values in this range satisfy a buy condition\n",
    "        l.append(1) #buy\n",
    "    elif Indicator['RSI_14D'][i] >= 31 and Indicator['RSI_14D'][i] <= 69:#values in this range satisfy a hold condition\n",
    "        l.append(2) #hold\n",
    "    elif Indicator['RSI_14D'][i] >= 70:#values in this range satisfy a sell condition\n",
    "        l.append(3)#sell\n",
    "    else:\n",
    "        l.append(2) #hold signal\n",
    "Indicator['RSI_sig'] = l"
   ]
  },
  {
   "cell_type": "code",
   "execution_count": 13,
   "metadata": {},
   "outputs": [
    {
     "data": {
      "image/png": "[encoded data removed]",
      "text/plain": [
       "<Figure size 432x288 with 1 Axes>"
      ]
     },
     "metadata": {
      "needs_background": "light"
     },
     "output_type": "display_data"
    },
    {
     "data": {
      "text/plain": [
       "2    132\n",
       "3     11\n",
       "1      6\n",
       "Name: RSI_sig, dtype: int64"
      ]
     },
     "execution_count": 13,
     "metadata": {},
     "output_type": "execute_result"
    }
   ],
   "source": [
    "sns.countplot(x = 'RSI_sig', data=pd.DataFrame(Indicator), hue='RSI_sig')#plotting signal frequency\n",
    "plt.savefig(\"aspen_rsicount\")\n",
    "plt.show()\n",
    "Indicator['RSI_sig'].value_counts() #counts according to signal code "
   ]
  },
  {
   "cell_type": "code",
   "execution_count": 14,
   "metadata": {},
   "outputs": [
    {
     "data": {
      "image/png": "[encoded data removed]",
      "text/plain": [
       "<Figure size 432x288 with 1 Axes>"
      ]
     },
     "metadata": {
      "needs_background": "light"
     },
     "output_type": "display_data"
    }
   ],
   "source": [
    "#plotting the indicator graphically\n",
    "r = Indicator['RSI_14D']\n",
    "h = [0,160]\n",
    "b = [30,30]\n",
    "f = plt.plot(r, label = 'RSI_14D')\n",
    "e = [70,70]\n",
    "g = plt.plot(h,b,h,e) + f\n",
    "plt.ylabel('Threshold value')\n",
    "plt.xlabel('Days')\n",
    "plt.legend()\n",
    "plt.savefig(\"aspen_rsi\")\n",
    "plt.show(g)"
   ]
  },
  {
   "cell_type": "code",
   "execution_count": 15,
   "metadata": {},
   "outputs": [],
   "source": [
    "n=21\n",
    "Indicator['STOK'] = ((Indicator['Close'] - Indicator['Low'].rolling(window=n,center=False).mean()) /\n",
    "                     (Indicator['High'].rolling(window=n, center=False).max() - \n",
    "                      Indicator['Low'].rolling(window=n, center=False).min())) * 100 #calculates%D stochastic\n",
    "Indicator['STOD'] = Indicator['STOK'].rolling(window = 7, center=False).mean()  #%K stochastic "
   ]
  },
  {
   "cell_type": "code",
   "execution_count": 16,
   "metadata": {},
   "outputs": [],
   "source": [
    "m = []\n",
    "for i in range (len(Indicator)):\n",
    "    if Indicator['STOK'][i] >= 28 and Indicator['STOK'][i]<=30:#values in this range satisfy a buy condition\n",
    "        m.append(1) #buy\n",
    "    elif Indicator['STOK'][i] > 30 and Indicator['STOK'][i] <= 69:#values in this range satisfy a hold condition\n",
    "        m.append(2) #sell    \n",
    "    elif Indicator['STOK'][i] >= 70:#values in this range satisfy a sell condition\n",
    "        m.append(3) #sell\n",
    "    else:\n",
    "        m.append(2) #hold\n",
    "Indicator['STO_sig'] = m"
   ]
  },
  {
   "cell_type": "code",
   "execution_count": 17,
   "metadata": {},
   "outputs": [
    {
     "data": {
      "image/png": "[encoded data removed]",
      "text/plain": [
       "<Figure size 432x288 with 1 Axes>"
      ]
     },
     "metadata": {
      "needs_background": "light"
     },
     "output_type": "display_data"
    },
    {
     "data": {
      "text/plain": [
       "2    146\n",
       "1      3\n",
       "Name: STO_sig, dtype: int64"
      ]
     },
     "execution_count": 17,
     "metadata": {},
     "output_type": "execute_result"
    }
   ],
   "source": [
    "sns.countplot(x = 'STO_sig', data=pd.DataFrame(Indicator), hue='STO_sig')#plotting signal frequency\n",
    "plt.savefig(\"aspen_stocount\")\n",
    "plt.show()\n",
    "Indicator['STO_sig'].value_counts()#counts frequency values"
   ]
  },
  {
   "cell_type": "code",
   "execution_count": 18,
   "metadata": {},
   "outputs": [
    {
     "data": {
      "image/png": "[encoded data removed]",
      "text/plain": [
       "<Figure size 432x288 with 1 Axes>"
      ]
     },
     "metadata": {
      "needs_background": "light"
     },
     "output_type": "display_data"
    }
   ],
   "source": [
    "#plotting the indicator graphically\n",
    "t = Indicator['STOD']\n",
    "j = Indicator['STOK']\n",
    "u = plt.plot(t, label = 'STOD')\n",
    "s = plt.plot(j, label = 'STOK')\n",
    "h = [0,160]\n",
    "b = [30,30]\n",
    "e = [70,70]\n",
    "g = plt.plot(h,e,h,b) + u + s\n",
    "plt.ylabel('Threshold value')\n",
    "plt.xlabel('Days')\n",
    "plt.legend()\n",
    "plt.savefig(\"aspen_sto\")\n",
    "plt.show()"
   ]
  },
  {
   "cell_type": "code",
   "execution_count": 19,
   "metadata": {},
   "outputs": [],
   "source": [
    "Indicator['EMA_10'] = Indicator['Close'].ewm(span=10,adjust=False,min_periods=1).mean() #50day exponential ma\n",
    "Indicator['EMA_30'] = Indicator['Close'].ewm(span=20,adjust=False,min_periods=1).mean() #100day exponential ma\n",
    "Indicator['EMA_90'] = Indicator['Close'].ewm(span=90,adjust=False,min_periods=1).mean() #200day exponential ma"
   ]
  },
  {
   "cell_type": "code",
   "execution_count": 20,
   "metadata": {},
   "outputs": [],
   "source": [
    "# append 1 for a buy, 0 for a sell and 2 for hold and NaN\n",
    "n = []\n",
    "for i in range (len(Indicator)):\n",
    "    if Indicator['EMA_10'][i] < Indicator['EMA_30'][i] and Indicator['EMA_90'][i]:#values in this range satisfy a buy condition\n",
    "        n.append(1) #buy\n",
    "    elif Indicator['EMA_10'][i] > Indicator['EMA_30'][i] and Indicator['EMA_90'][i]:#values in this range satisfy a hold condition\n",
    "        n.append(3) #sell\n",
    "    elif Indicator['EMA_10'][i] == Indicator['EMA_30'][i] == Indicator['EMA_90'][i]:#values in this range satisfy a hold condition\n",
    "        n.append(2)  #hold      \n",
    "    else:\n",
    "        n.append(2)#hold\n",
    "Indicator['EMA_sig'] = n     "
   ]
  },
  {
   "cell_type": "code",
   "execution_count": 21,
   "metadata": {},
   "outputs": [
    {
     "data": {
      "image/png": "[encoded data removed]",
      "text/plain": [
       "<Figure size 432x288 with 1 Axes>"
      ]
     },
     "metadata": {
      "needs_background": "light"
     },
     "output_type": "display_data"
    },
    {
     "data": {
      "text/plain": [
       "1    85\n",
       "3    63\n",
       "2     1\n",
       "Name: EMA_sig, dtype: int64"
      ]
     },
     "execution_count": 21,
     "metadata": {},
     "output_type": "execute_result"
    }
   ],
   "source": [
    "sns.countplot(x = 'EMA_sig', data=pd.DataFrame(Indicator), hue='EMA_sig')#plotting signal frequency\n",
    "plt.savefig(\"aspen_emacount\")\n",
    "plt.show()\n",
    "Indicator['EMA_sig'].value_counts()#counts frequency values"
   ]
  },
  {
   "cell_type": "code",
   "execution_count": 22,
   "metadata": {},
   "outputs": [
    {
     "data": {
      "image/png": "[encoded data removed]",
      "text/plain": [
       "<Figure size 432x288 with 1 Axes>"
      ]
     },
     "metadata": {
      "needs_background": "light"
     },
     "output_type": "display_data"
    }
   ],
   "source": [
    "# buy if 10EMA line cuts the other two EMA lines from above and moves below both the EMAs\n",
    "# sell if 10EMA line cuts the other two EMA lines from below and moves above both the EMAs\n",
    "a = Indicator['EMA_10'] #10 day exponential moving average\n",
    "b = Indicator['EMA_30'] #30 day exponential moving average\n",
    "c = Indicator['EMA_90'] #90 day exponential moving average\n",
    "d = plt.plot(a, label = 'EMA_10' ) + plt.plot(b, label = 'EMA_30') + plt.plot(c, label = 'EMA_90')\n",
    "plt.ylabel('Threshold value')\n",
    "plt.xlabel('Days')\n",
    "plt.legend()\n",
    "plt.savefig(\"aspen_ema\")\n",
    "plt.show(d)"
   ]
  },
  {
   "cell_type": "code",
   "execution_count": 23,
   "metadata": {},
   "outputs": [],
   "source": [
    "Indicator['26_ema'] = Indicator['Close'].ewm(span=26,adjust=True,ignore_na=False).mean() #26day ema\n",
    "Indicator['12_ema'] = Indicator['Close'].ewm(span=12,adjust=True,ignore_na=False).mean() #12day ema\n",
    "Indicator['MACD'] = Indicator['12_ema'] - Indicator['26_ema'] #macd\n",
    "Indicator['9EMA_MACD'] = Indicator['MACD'].ewm(span=9,adjust=True,ignore_na=False).mean() #9daymacd_ema\n",
    "#Indicator"
   ]
  },
  {
   "cell_type": "code",
   "execution_count": 24,
   "metadata": {},
   "outputs": [],
   "source": [
    "f = []\n",
    "for i in range (len(Indicator)):\n",
    "    if Indicator['MACD'][i] > Indicator['9EMA_MACD'][i]:#values in this range satisfy a buy condition\n",
    "        f.append(1) #buy\n",
    "    elif Indicator['MACD'][i] < Indicator['9EMA_MACD'][i]:#values in this range satisfy a hold condition\n",
    "        f.append(3) #sell\n",
    "    elif Indicator['MACD'][i] == Indicator['9EMA_MACD'][i]:#values in this range satisfy a sell condition\n",
    "        f.append(2) #\n",
    "    else:\n",
    "        f.append(2)#hold\n",
    "Indicator['MACD_sig'] = f "
   ]
  },
  {
   "cell_type": "code",
   "execution_count": 25,
   "metadata": {},
   "outputs": [
    {
     "data": {
      "image/png": "[encoded data removed]",
      "text/plain": [
       "<Figure size 432x288 with 1 Axes>"
      ]
     },
     "metadata": {
      "needs_background": "light"
     },
     "output_type": "display_data"
    },
    {
     "data": {
      "text/plain": [
       "3    75\n",
       "1    73\n",
       "2     1\n",
       "Name: MACD_sig, dtype: int64"
      ]
     },
     "execution_count": 25,
     "metadata": {},
     "output_type": "execute_result"
    }
   ],
   "source": [
    "sns.countplot(x = 'MACD_sig', data=pd.DataFrame(Indicator), hue='MACD_sig')#plotting signal frequency\n",
    "plt.savefig(\"aspen_macdcount\")\n",
    "plt.show()\n",
    "Indicator['MACD_sig'].value_counts()#counts frequency values"
   ]
  },
  {
   "cell_type": "code",
   "execution_count": 26,
   "metadata": {},
   "outputs": [
    {
     "data": {
      "image/png": "[encoded data removed]",
      "text/plain": [
       "<Figure size 432x288 with 1 Axes>"
      ]
     },
     "metadata": {
      "needs_background": "light"
     },
     "output_type": "display_data"
    }
   ],
   "source": [
    "#plotting the indicator graphically\n",
    "q = Indicator['9EMA_MACD']\n",
    "e = Indicator['MACD']\n",
    "z = [0,160]\n",
    "x = [0,0]\n",
    "r = plt.plot(z,x)+ plt.plot(e, label = 'MACD') +plt.plot(q, label = '9EMA_MACD')\n",
    "plt.ylabel('Threshold value')\n",
    "plt.xlabel('Days')\n",
    "plt.legend()\n",
    "plt.savefig(\"aspen_macd\")\n",
    "plt.show(r)"
   ]
  },
  {
   "cell_type": "code",
   "execution_count": 28,
   "metadata": {},
   "outputs": [],
   "source": [
    "#changing from dataframe to array for easy adding\n",
    "new1 = Indicator['RSI_sig'].to_numpy()\n",
    "new2 = Indicator['MACD_sig'].to_numpy()\n",
    "new3 = Indicator['EMA_sig'].to_numpy()\n",
    "new4 = Indicator['STO_sig'].to_numpy()"
   ]
  },
  {
   "cell_type": "code",
   "execution_count": 29,
   "metadata": {},
   "outputs": [],
   "source": [
    "b = []\n",
    "for i in range (len(new2)):\n",
    "    if new1[i] + new2[i] + new3[i] + new4[i] <= 6: #values in this range satisfy a buy condition\n",
    "        b.append(1)\n",
    "    elif new1[i] + new2[i] + new3[i] + new4[i] >=10:#values in this range satisfy a sell condition\n",
    "        b.append(3)\n",
    "    else:\n",
    "        b.append(2) #hold\n",
    "new5 = pd.Series(b)  \n",
    "#new5"
   ]
  },
  {
   "cell_type": "code",
   "execution_count": 30,
   "metadata": {
    "scrolled": true
   },
   "outputs": [
    {
     "data": {
      "text/html": [
       "<div>\n",
       "<style scoped>\n",
       "    .dataframe tbody tr th:only-of-type {\n",
       "        vertical-align: middle;\n",
       "    }\n",
       "\n",
       "    .dataframe tbody tr th {\n",
       "        vertical-align: top;\n",
       "    }\n",
       "\n",
       "    .dataframe thead th {\n",
       "        text-align: right;\n",
       "    }\n",
       "</style>\n",
       "<table border=\"1\" class=\"dataframe\">\n",
       "  <thead>\n",
       "    <tr style=\"text-align: right;\">\n",
       "      <th></th>\n",
       "      <th>Date</th>\n",
       "      <th>High</th>\n",
       "      <th>Low</th>\n",
       "      <th>Open</th>\n",
       "      <th>Close</th>\n",
       "      <th>Direction</th>\n",
       "      <th>RSI_14D</th>\n",
       "      <th>RSI_sig</th>\n",
       "      <th>STOK</th>\n",
       "      <th>STOD</th>\n",
       "      <th>...</th>\n",
       "      <th>EMA_10</th>\n",
       "      <th>EMA_30</th>\n",
       "      <th>EMA_90</th>\n",
       "      <th>EMA_sig</th>\n",
       "      <th>26_ema</th>\n",
       "      <th>12_ema</th>\n",
       "      <th>MACD</th>\n",
       "      <th>9EMA_MACD</th>\n",
       "      <th>MACD_sig</th>\n",
       "      <th>Decision</th>\n",
       "    </tr>\n",
       "  </thead>\n",
       "  <tbody>\n",
       "    <tr>\n",
       "      <th>0</th>\n",
       "      <td>2020-01-31</td>\n",
       "      <td>11748.0</td>\n",
       "      <td>11426.0</td>\n",
       "      <td>11460.0</td>\n",
       "      <td>11604.0</td>\n",
       "      <td>NaN</td>\n",
       "      <td>NaN</td>\n",
       "      <td>2</td>\n",
       "      <td>NaN</td>\n",
       "      <td>NaN</td>\n",
       "      <td>...</td>\n",
       "      <td>11604.000000</td>\n",
       "      <td>11604.000000</td>\n",
       "      <td>11604.000000</td>\n",
       "      <td>2</td>\n",
       "      <td>11604.000000</td>\n",
       "      <td>11604.000000</td>\n",
       "      <td>0.000000</td>\n",
       "      <td>0.000000</td>\n",
       "      <td>2</td>\n",
       "      <td>2</td>\n",
       "    </tr>\n",
       "    <tr>\n",
       "      <th>1</th>\n",
       "      <td>2020-01-30</td>\n",
       "      <td>11784.0</td>\n",
       "      <td>11325.0</td>\n",
       "      <td>11450.0</td>\n",
       "      <td>11714.0</td>\n",
       "      <td>110.0</td>\n",
       "      <td>NaN</td>\n",
       "      <td>2</td>\n",
       "      <td>NaN</td>\n",
       "      <td>NaN</td>\n",
       "      <td>...</td>\n",
       "      <td>11624.000000</td>\n",
       "      <td>11614.476190</td>\n",
       "      <td>11606.417582</td>\n",
       "      <td>3</td>\n",
       "      <td>11661.115385</td>\n",
       "      <td>11663.583333</td>\n",
       "      <td>2.467949</td>\n",
       "      <td>1.371083</td>\n",
       "      <td>1</td>\n",
       "      <td>2</td>\n",
       "    </tr>\n",
       "    <tr>\n",
       "      <th>2</th>\n",
       "      <td>2020-01-29</td>\n",
       "      <td>11669.0</td>\n",
       "      <td>11296.0</td>\n",
       "      <td>11431.0</td>\n",
       "      <td>11499.0</td>\n",
       "      <td>-215.0</td>\n",
       "      <td>NaN</td>\n",
       "      <td>2</td>\n",
       "      <td>NaN</td>\n",
       "      <td>NaN</td>\n",
       "      <td>...</td>\n",
       "      <td>11601.272727</td>\n",
       "      <td>11603.478458</td>\n",
       "      <td>11604.056756</td>\n",
       "      <td>1</td>\n",
       "      <td>11602.868901</td>\n",
       "      <td>11599.346420</td>\n",
       "      <td>-3.522481</td>\n",
       "      <td>-0.634476</td>\n",
       "      <td>3</td>\n",
       "      <td>2</td>\n",
       "    </tr>\n",
       "    <tr>\n",
       "      <th>3</th>\n",
       "      <td>2020-01-28</td>\n",
       "      <td>11699.0</td>\n",
       "      <td>11329.0</td>\n",
       "      <td>11635.0</td>\n",
       "      <td>11541.0</td>\n",
       "      <td>42.0</td>\n",
       "      <td>NaN</td>\n",
       "      <td>2</td>\n",
       "      <td>NaN</td>\n",
       "      <td>NaN</td>\n",
       "      <td>...</td>\n",
       "      <td>11590.314050</td>\n",
       "      <td>11597.528129</td>\n",
       "      <td>11602.670894</td>\n",
       "      <td>1</td>\n",
       "      <td>11585.573060</td>\n",
       "      <td>11580.928736</td>\n",
       "      <td>-4.644324</td>\n",
       "      <td>-1.992826</td>\n",
       "      <td>3</td>\n",
       "      <td>2</td>\n",
       "    </tr>\n",
       "    <tr>\n",
       "      <th>4</th>\n",
       "      <td>2020-01-27</td>\n",
       "      <td>11766.0</td>\n",
       "      <td>11400.0</td>\n",
       "      <td>11505.0</td>\n",
       "      <td>11630.0</td>\n",
       "      <td>89.0</td>\n",
       "      <td>NaN</td>\n",
       "      <td>2</td>\n",
       "      <td>NaN</td>\n",
       "      <td>NaN</td>\n",
       "      <td>...</td>\n",
       "      <td>11597.529677</td>\n",
       "      <td>11600.620688</td>\n",
       "      <td>11603.271533</td>\n",
       "      <td>1</td>\n",
       "      <td>11595.875851</td>\n",
       "      <td>11594.261223</td>\n",
       "      <td>-1.614628</td>\n",
       "      <td>-1.880320</td>\n",
       "      <td>1</td>\n",
       "      <td>1</td>\n",
       "    </tr>\n",
       "    <tr>\n",
       "      <th>...</th>\n",
       "      <td>...</td>\n",
       "      <td>...</td>\n",
       "      <td>...</td>\n",
       "      <td>...</td>\n",
       "      <td>...</td>\n",
       "      <td>...</td>\n",
       "      <td>...</td>\n",
       "      <td>...</td>\n",
       "      <td>...</td>\n",
       "      <td>...</td>\n",
       "      <td>...</td>\n",
       "      <td>...</td>\n",
       "      <td>...</td>\n",
       "      <td>...</td>\n",
       "      <td>...</td>\n",
       "      <td>...</td>\n",
       "      <td>...</td>\n",
       "      <td>...</td>\n",
       "      <td>...</td>\n",
       "      <td>...</td>\n",
       "      <td>...</td>\n",
       "    </tr>\n",
       "    <tr>\n",
       "      <th>144</th>\n",
       "      <td>2019-07-05</td>\n",
       "      <td>10289.0</td>\n",
       "      <td>9662.0</td>\n",
       "      <td>10101.0</td>\n",
       "      <td>9964.0</td>\n",
       "      <td>-58.0</td>\n",
       "      <td>54.698264</td>\n",
       "      <td>2</td>\n",
       "      <td>19.133652</td>\n",
       "      <td>35.947777</td>\n",
       "      <td>...</td>\n",
       "      <td>10074.254186</td>\n",
       "      <td>9711.346862</td>\n",
       "      <td>9434.759953</td>\n",
       "      <td>3</td>\n",
       "      <td>9523.795153</td>\n",
       "      <td>10010.392357</td>\n",
       "      <td>486.597204</td>\n",
       "      <td>518.484147</td>\n",
       "      <td>3</td>\n",
       "      <td>3</td>\n",
       "    </tr>\n",
       "    <tr>\n",
       "      <th>145</th>\n",
       "      <td>2019-07-04</td>\n",
       "      <td>10476.0</td>\n",
       "      <td>10202.0</td>\n",
       "      <td>10320.0</td>\n",
       "      <td>10476.0</td>\n",
       "      <td>512.0</td>\n",
       "      <td>59.745348</td>\n",
       "      <td>2</td>\n",
       "      <td>43.977303</td>\n",
       "      <td>36.979346</td>\n",
       "      <td>...</td>\n",
       "      <td>10147.298880</td>\n",
       "      <td>9784.170970</td>\n",
       "      <td>9457.644349</td>\n",
       "      <td>3</td>\n",
       "      <td>9594.329775</td>\n",
       "      <td>10082.024302</td>\n",
       "      <td>487.694527</td>\n",
       "      <td>512.326223</td>\n",
       "      <td>3</td>\n",
       "      <td>3</td>\n",
       "    </tr>\n",
       "    <tr>\n",
       "      <th>146</th>\n",
       "      <td>2019-07-03</td>\n",
       "      <td>10324.0</td>\n",
       "      <td>10064.0</td>\n",
       "      <td>10205.0</td>\n",
       "      <td>10324.0</td>\n",
       "      <td>-152.0</td>\n",
       "      <td>56.417796</td>\n",
       "      <td>2</td>\n",
       "      <td>33.201262</td>\n",
       "      <td>35.030983</td>\n",
       "      <td>...</td>\n",
       "      <td>10179.426356</td>\n",
       "      <td>9835.583259</td>\n",
       "      <td>9476.685133</td>\n",
       "      <td>3</td>\n",
       "      <td>9648.380082</td>\n",
       "      <td>10119.251333</td>\n",
       "      <td>470.871251</td>\n",
       "      <td>504.035228</td>\n",
       "      <td>3</td>\n",
       "      <td>3</td>\n",
       "    </tr>\n",
       "    <tr>\n",
       "      <th>147</th>\n",
       "      <td>2019-07-02</td>\n",
       "      <td>10538.0</td>\n",
       "      <td>10069.0</td>\n",
       "      <td>10500.0</td>\n",
       "      <td>10298.0</td>\n",
       "      <td>-26.0</td>\n",
       "      <td>63.088281</td>\n",
       "      <td>2</td>\n",
       "      <td>28.838017</td>\n",
       "      <td>32.137297</td>\n",
       "      <td>...</td>\n",
       "      <td>10200.985200</td>\n",
       "      <td>9879.622948</td>\n",
       "      <td>9494.736009</td>\n",
       "      <td>3</td>\n",
       "      <td>9696.500620</td>\n",
       "      <td>10146.751128</td>\n",
       "      <td>450.250508</td>\n",
       "      <td>493.278284</td>\n",
       "      <td>3</td>\n",
       "      <td>2</td>\n",
       "    </tr>\n",
       "    <tr>\n",
       "      <th>148</th>\n",
       "      <td>2019-07-01</td>\n",
       "      <td>10660.0</td>\n",
       "      <td>10136.0</td>\n",
       "      <td>10188.0</td>\n",
       "      <td>10465.0</td>\n",
       "      <td>167.0</td>\n",
       "      <td>65.045150</td>\n",
       "      <td>2</td>\n",
       "      <td>34.343434</td>\n",
       "      <td>30.454426</td>\n",
       "      <td>...</td>\n",
       "      <td>10248.987891</td>\n",
       "      <td>9935.373144</td>\n",
       "      <td>9516.060492</td>\n",
       "      <td>3</td>\n",
       "      <td>9753.427096</td>\n",
       "      <td>10195.712493</td>\n",
       "      <td>442.285397</td>\n",
       "      <td>483.079707</td>\n",
       "      <td>3</td>\n",
       "      <td>3</td>\n",
       "    </tr>\n",
       "  </tbody>\n",
       "</table>\n",
       "<p>149 rows × 21 columns</p>\n",
       "</div>"
      ],
      "text/plain": [
       "0         Date     High      Low     Open    Close  Direction    RSI_14D  \\\n",
       "0   2020-01-31  11748.0  11426.0  11460.0  11604.0        NaN        NaN   \n",
       "1   2020-01-30  11784.0  11325.0  11450.0  11714.0      110.0        NaN   \n",
       "2   2020-01-29  11669.0  11296.0  11431.0  11499.0     -215.0        NaN   \n",
       "3   2020-01-28  11699.0  11329.0  11635.0  11541.0       42.0        NaN   \n",
       "4   2020-01-27  11766.0  11400.0  11505.0  11630.0       89.0        NaN   \n",
       "..         ...      ...      ...      ...      ...        ...        ...   \n",
       "144 2019-07-05  10289.0   9662.0  10101.0   9964.0      -58.0  54.698264   \n",
       "145 2019-07-04  10476.0  10202.0  10320.0  10476.0      512.0  59.745348   \n",
       "146 2019-07-03  10324.0  10064.0  10205.0  10324.0     -152.0  56.417796   \n",
       "147 2019-07-02  10538.0  10069.0  10500.0  10298.0      -26.0  63.088281   \n",
       "148 2019-07-01  10660.0  10136.0  10188.0  10465.0      167.0  65.045150   \n",
       "\n",
       "0    RSI_sig       STOK       STOD  ...        EMA_10        EMA_30  \\\n",
       "0          2        NaN        NaN  ...  11604.000000  11604.000000   \n",
       "1          2        NaN        NaN  ...  11624.000000  11614.476190   \n",
       "2          2        NaN        NaN  ...  11601.272727  11603.478458   \n",
       "3          2        NaN        NaN  ...  11590.314050  11597.528129   \n",
       "4          2        NaN        NaN  ...  11597.529677  11600.620688   \n",
       "..       ...        ...        ...  ...           ...           ...   \n",
       "144        2  19.133652  35.947777  ...  10074.254186   9711.346862   \n",
       "145        2  43.977303  36.979346  ...  10147.298880   9784.170970   \n",
       "146        2  33.201262  35.030983  ...  10179.426356   9835.583259   \n",
       "147        2  28.838017  32.137297  ...  10200.985200   9879.622948   \n",
       "148        2  34.343434  30.454426  ...  10248.987891   9935.373144   \n",
       "\n",
       "0          EMA_90  EMA_sig        26_ema        12_ema        MACD  \\\n",
       "0    11604.000000        2  11604.000000  11604.000000    0.000000   \n",
       "1    11606.417582        3  11661.115385  11663.583333    2.467949   \n",
       "2    11604.056756        1  11602.868901  11599.346420   -3.522481   \n",
       "3    11602.670894        1  11585.573060  11580.928736   -4.644324   \n",
       "4    11603.271533        1  11595.875851  11594.261223   -1.614628   \n",
       "..            ...      ...           ...           ...         ...   \n",
       "144   9434.759953        3   9523.795153  10010.392357  486.597204   \n",
       "145   9457.644349        3   9594.329775  10082.024302  487.694527   \n",
       "146   9476.685133        3   9648.380082  10119.251333  470.871251   \n",
       "147   9494.736009        3   9696.500620  10146.751128  450.250508   \n",
       "148   9516.060492        3   9753.427096  10195.712493  442.285397   \n",
       "\n",
       "0     9EMA_MACD  MACD_sig  Decision  \n",
       "0      0.000000         2         2  \n",
       "1      1.371083         1         2  \n",
       "2     -0.634476         3         2  \n",
       "3     -1.992826         3         2  \n",
       "4     -1.880320         1         1  \n",
       "..          ...       ...       ...  \n",
       "144  518.484147         3         3  \n",
       "145  512.326223         3         3  \n",
       "146  504.035228         3         3  \n",
       "147  493.278284         3         2  \n",
       "148  483.079707         3         3  \n",
       "\n",
       "[149 rows x 21 columns]"
      ]
     },
     "execution_count": 30,
     "metadata": {},
     "output_type": "execute_result"
    }
   ],
   "source": [
    "Indicator['Decision'] = new5\n",
    "Indicator"
   ]
  },
  {
   "cell_type": "code",
   "execution_count": 31,
   "metadata": {},
   "outputs": [
    {
     "data": {
      "image/png": "[encoded data removed]",
      "text/plain": [
       "<Figure size 432x288 with 1 Axes>"
      ]
     },
     "metadata": {
      "needs_background": "light"
     },
     "output_type": "display_data"
    },
    {
     "data": {
      "text/plain": [
       "2    118\n",
       "1     21\n",
       "3     10\n",
       "Name: Decision, dtype: int64"
      ]
     },
     "execution_count": 31,
     "metadata": {},
     "output_type": "execute_result"
    }
   ],
   "source": [
    "sns.countplot(x = 'Decision', data=pd.DataFrame(Indicator), hue='Decision')#plotting signal frequency\n",
    "plt.savefig(\"aspen_dec\")\n",
    "plt.show()\n",
    "Indicator['Decision'].value_counts()#counts frequency values"
   ]
  },
  {
   "cell_type": "code",
   "execution_count": 32,
   "metadata": {},
   "outputs": [
    {
     "data": {
      "text/plain": [
       "2    79.194631\n",
       "1    14.093960\n",
       "3     6.711409\n",
       "Name: Decision, dtype: float64"
      ]
     },
     "execution_count": 32,
     "metadata": {},
     "output_type": "execute_result"
    }
   ],
   "source": [
    "Indicator['Decision'].value_counts(normalize=True) * 100 #expresses frequency aas a percentage"
   ]
  },
  {
   "cell_type": "code",
   "execution_count": null,
   "metadata": {},
   "outputs": [],
   "source": []
  },
  {
   "cell_type": "code",
   "execution_count": null,
   "metadata": {},
   "outputs": [],
   "source": []
  }
 ],
 "metadata": {
  "kernelspec": {
   "display_name": "Python 3",
   "language": "python",
   "name": "python3"
  },
  "language_info": {
   "codemirror_mode": {
    "name": "ipython",
    "version": 3
   },
   "file_extension": ".py",
   "mimetype": "text/x-python",
   "name": "python",
   "nbconvert_exporter": "python",
   "pygments_lexer": "ipython3",
   "version": "3.7.3"
  }
 },
 "nbformat": 4,
 "nbformat_minor": 5
}

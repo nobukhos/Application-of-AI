{
 "cells": [
  {
   "cell_type": "code",
   "execution_count": 1,
   "metadata": {},
   "outputs": [],
   "source": [
    "import numpy as np\n",
    "import pandas as pd\n",
    "import matplotlib.pyplot as plt\n",
    "import seaborn as sns"
   ]
  },
  {
   "cell_type": "code",
   "execution_count": 2,
   "metadata": {},
   "outputs": [],
   "source": [
    "# Read all data \n",
    "A = pd.read_html('Report16Jul2021121350.html')\n",
    "#A"
   ]
  },
  {
   "cell_type": "code",
   "execution_count": 3,
   "metadata": {},
   "outputs": [],
   "source": [
    "# choosing the data that we will use \n",
    "A1=A[11]\n",
    "#A1"
   ]
  },
  {
   "cell_type": "code",
   "execution_count": 4,
   "metadata": {},
   "outputs": [],
   "source": [
    "# changing the first row to be a header for all data\n",
    "new_header1 = A1.iloc[0] #grab the first row for the header\n",
    "A2 = A1[365:514] #take the data less the header row\n",
    "A2.columns = new_header1 #set the header row as the df header\n",
    "A2 = A2.reset_index(drop=True) #resetting index\n",
    "#A2"
   ]
  },
  {
   "cell_type": "code",
   "execution_count": 5,
   "metadata": {},
   "outputs": [
    {
     "data": {
      "text/html": [
       "<div>\n",
       "<style scoped>\n",
       "    .dataframe tbody tr th:only-of-type {\n",
       "        vertical-align: middle;\n",
       "    }\n",
       "\n",
       "    .dataframe tbody tr th {\n",
       "        vertical-align: top;\n",
       "    }\n",
       "\n",
       "    .dataframe thead th {\n",
       "        text-align: right;\n",
       "    }\n",
       "</style>\n",
       "<table border=\"1\" class=\"dataframe\">\n",
       "  <thead>\n",
       "    <tr style=\"text-align: right;\">\n",
       "      <th></th>\n",
       "      <th>Date</th>\n",
       "      <th>High</th>\n",
       "      <th>Low</th>\n",
       "      <th>Open</th>\n",
       "      <th>Close</th>\n",
       "      <th>Volume</th>\n",
       "      <th>InterestYield</th>\n",
       "      <th>CapitalPaymentYield</th>\n",
       "      <th>TotalDistributionYield</th>\n",
       "      <th>EY</th>\n",
       "      <th>P/E</th>\n",
       "      <th>DY</th>\n",
       "    </tr>\n",
       "  </thead>\n",
       "  <tbody>\n",
       "    <tr>\n",
       "      <th>0</th>\n",
       "      <td>31 Jan 2020</td>\n",
       "      <td>827</td>\n",
       "      <td>784</td>\n",
       "      <td>805</td>\n",
       "      <td>821</td>\n",
       "      <td>3540064</td>\n",
       "      <td>0.00</td>\n",
       "      <td>0.00</td>\n",
       "      <td>0.00</td>\n",
       "      <td>-151.80</td>\n",
       "      <td>-0.66</td>\n",
       "      <td>0.00</td>\n",
       "    </tr>\n",
       "    <tr>\n",
       "      <th>1</th>\n",
       "      <td>30 Jan 2020</td>\n",
       "      <td>872</td>\n",
       "      <td>814</td>\n",
       "      <td>858</td>\n",
       "      <td>825</td>\n",
       "      <td>2086738</td>\n",
       "      <td>0.00</td>\n",
       "      <td>0.00</td>\n",
       "      <td>0.00</td>\n",
       "      <td>-151.06</td>\n",
       "      <td>-0.66</td>\n",
       "      <td>0.00</td>\n",
       "    </tr>\n",
       "    <tr>\n",
       "      <th>2</th>\n",
       "      <td>29 Jan 2020</td>\n",
       "      <td>878</td>\n",
       "      <td>775</td>\n",
       "      <td>800</td>\n",
       "      <td>855</td>\n",
       "      <td>2452306</td>\n",
       "      <td>0.00</td>\n",
       "      <td>0.00</td>\n",
       "      <td>0.00</td>\n",
       "      <td>-145.76</td>\n",
       "      <td>-0.69</td>\n",
       "      <td>0.00</td>\n",
       "    </tr>\n",
       "    <tr>\n",
       "      <th>3</th>\n",
       "      <td>28 Jan 2020</td>\n",
       "      <td>1260</td>\n",
       "      <td>1181</td>\n",
       "      <td>1260</td>\n",
       "      <td>1200</td>\n",
       "      <td>2247292</td>\n",
       "      <td>0.00</td>\n",
       "      <td>0.00</td>\n",
       "      <td>0.00</td>\n",
       "      <td>-144.75</td>\n",
       "      <td>-0.69</td>\n",
       "      <td>0.00</td>\n",
       "    </tr>\n",
       "    <tr>\n",
       "      <th>4</th>\n",
       "      <td>27 Jan 2020</td>\n",
       "      <td>1296</td>\n",
       "      <td>1236</td>\n",
       "      <td>1236</td>\n",
       "      <td>1260</td>\n",
       "      <td>1634503</td>\n",
       "      <td>0.00</td>\n",
       "      <td>0.00</td>\n",
       "      <td>0.00</td>\n",
       "      <td>-137.86</td>\n",
       "      <td>-0.73</td>\n",
       "      <td>0.00</td>\n",
       "    </tr>\n",
       "    <tr>\n",
       "      <th>...</th>\n",
       "      <td>...</td>\n",
       "      <td>...</td>\n",
       "      <td>...</td>\n",
       "      <td>...</td>\n",
       "      <td>...</td>\n",
       "      <td>...</td>\n",
       "      <td>...</td>\n",
       "      <td>...</td>\n",
       "      <td>...</td>\n",
       "      <td>...</td>\n",
       "      <td>...</td>\n",
       "      <td>...</td>\n",
       "    </tr>\n",
       "    <tr>\n",
       "      <th>144</th>\n",
       "      <td>05 Jul 2019</td>\n",
       "      <td>1965</td>\n",
       "      <td>1900</td>\n",
       "      <td>1910</td>\n",
       "      <td>1942</td>\n",
       "      <td>369715</td>\n",
       "      <td>0.00</td>\n",
       "      <td>0.00</td>\n",
       "      <td>0.00</td>\n",
       "      <td>-107.72</td>\n",
       "      <td>-0.93</td>\n",
       "      <td>0.00</td>\n",
       "    </tr>\n",
       "    <tr>\n",
       "      <th>145</th>\n",
       "      <td>04 Jul 2019</td>\n",
       "      <td>1917</td>\n",
       "      <td>1835</td>\n",
       "      <td>1835</td>\n",
       "      <td>1910</td>\n",
       "      <td>320730</td>\n",
       "      <td>0.00</td>\n",
       "      <td>0.00</td>\n",
       "      <td>0.00</td>\n",
       "      <td>-109.53</td>\n",
       "      <td>-0.91</td>\n",
       "      <td>0.00</td>\n",
       "    </tr>\n",
       "    <tr>\n",
       "      <th>146</th>\n",
       "      <td>03 Jul 2019</td>\n",
       "      <td>1884</td>\n",
       "      <td>1825</td>\n",
       "      <td>1845</td>\n",
       "      <td>1863</td>\n",
       "      <td>345884</td>\n",
       "      <td>0.00</td>\n",
       "      <td>0.00</td>\n",
       "      <td>0.00</td>\n",
       "      <td>-112.29</td>\n",
       "      <td>-0.89</td>\n",
       "      <td>0.00</td>\n",
       "    </tr>\n",
       "    <tr>\n",
       "      <th>147</th>\n",
       "      <td>02 Jul 2019</td>\n",
       "      <td>1930</td>\n",
       "      <td>1846</td>\n",
       "      <td>1875</td>\n",
       "      <td>1850</td>\n",
       "      <td>472473</td>\n",
       "      <td>0.00</td>\n",
       "      <td>0.00</td>\n",
       "      <td>0.00</td>\n",
       "      <td>-113.08</td>\n",
       "      <td>-0.88</td>\n",
       "      <td>0.00</td>\n",
       "    </tr>\n",
       "    <tr>\n",
       "      <th>148</th>\n",
       "      <td>01 Jul 2019</td>\n",
       "      <td>1915</td>\n",
       "      <td>1835</td>\n",
       "      <td>1850</td>\n",
       "      <td>1912</td>\n",
       "      <td>942151</td>\n",
       "      <td>0.00</td>\n",
       "      <td>0.00</td>\n",
       "      <td>0.00</td>\n",
       "      <td>-109.41</td>\n",
       "      <td>-0.91</td>\n",
       "      <td>0.00</td>\n",
       "    </tr>\n",
       "  </tbody>\n",
       "</table>\n",
       "<p>149 rows × 12 columns</p>\n",
       "</div>"
      ],
      "text/plain": [
       "0           Date  High   Low  Open Close   Volume InterestYield  \\\n",
       "0    31 Jan 2020   827   784   805   821  3540064          0.00   \n",
       "1    30 Jan 2020   872   814   858   825  2086738          0.00   \n",
       "2    29 Jan 2020   878   775   800   855  2452306          0.00   \n",
       "3    28 Jan 2020  1260  1181  1260  1200  2247292          0.00   \n",
       "4    27 Jan 2020  1296  1236  1236  1260  1634503          0.00   \n",
       "..           ...   ...   ...   ...   ...      ...           ...   \n",
       "144  05 Jul 2019  1965  1900  1910  1942   369715          0.00   \n",
       "145  04 Jul 2019  1917  1835  1835  1910   320730          0.00   \n",
       "146  03 Jul 2019  1884  1825  1845  1863   345884          0.00   \n",
       "147  02 Jul 2019  1930  1846  1875  1850   472473          0.00   \n",
       "148  01 Jul 2019  1915  1835  1850  1912   942151          0.00   \n",
       "\n",
       "0   CapitalPaymentYield TotalDistributionYield       EY    P/E    DY  \n",
       "0                  0.00                   0.00  -151.80  -0.66  0.00  \n",
       "1                  0.00                   0.00  -151.06  -0.66  0.00  \n",
       "2                  0.00                   0.00  -145.76  -0.69  0.00  \n",
       "3                  0.00                   0.00  -144.75  -0.69  0.00  \n",
       "4                  0.00                   0.00  -137.86  -0.73  0.00  \n",
       "..                  ...                    ...      ...    ...   ...  \n",
       "144                0.00                   0.00  -107.72  -0.93  0.00  \n",
       "145                0.00                   0.00  -109.53  -0.91  0.00  \n",
       "146                0.00                   0.00  -112.29  -0.89  0.00  \n",
       "147                0.00                   0.00  -113.08  -0.88  0.00  \n",
       "148                0.00                   0.00  -109.41  -0.91  0.00  \n",
       "\n",
       "[149 rows x 12 columns]"
      ]
     },
     "execution_count": 5,
     "metadata": {},
     "output_type": "execute_result"
    }
   ],
   "source": [
    "Indicator = A2.copy() #making acopy of the new dataframe\n",
    "Indicator"
   ]
  },
  {
   "cell_type": "code",
   "execution_count": 6,
   "metadata": {},
   "outputs": [
    {
     "data": {
      "text/html": [
       "<div>\n",
       "<style scoped>\n",
       "    .dataframe tbody tr th:only-of-type {\n",
       "        vertical-align: middle;\n",
       "    }\n",
       "\n",
       "    .dataframe tbody tr th {\n",
       "        vertical-align: top;\n",
       "    }\n",
       "\n",
       "    .dataframe thead th {\n",
       "        text-align: right;\n",
       "    }\n",
       "</style>\n",
       "<table border=\"1\" class=\"dataframe\">\n",
       "  <thead>\n",
       "    <tr style=\"text-align: right;\">\n",
       "      <th></th>\n",
       "      <th>Date</th>\n",
       "      <th>High</th>\n",
       "      <th>Low</th>\n",
       "      <th>Open</th>\n",
       "      <th>Close</th>\n",
       "      <th>Volume</th>\n",
       "      <th>InterestYield</th>\n",
       "      <th>CapitalPaymentYield</th>\n",
       "      <th>TotalDistributionYield</th>\n",
       "      <th>EY</th>\n",
       "      <th>P/E</th>\n",
       "      <th>DY</th>\n",
       "    </tr>\n",
       "  </thead>\n",
       "  <tbody>\n",
       "    <tr>\n",
       "      <th>0</th>\n",
       "      <td>2020-01-31</td>\n",
       "      <td>827</td>\n",
       "      <td>784</td>\n",
       "      <td>805</td>\n",
       "      <td>821</td>\n",
       "      <td>3540064</td>\n",
       "      <td>0.00</td>\n",
       "      <td>0.00</td>\n",
       "      <td>0.00</td>\n",
       "      <td>-151.80</td>\n",
       "      <td>-0.66</td>\n",
       "      <td>0.00</td>\n",
       "    </tr>\n",
       "    <tr>\n",
       "      <th>1</th>\n",
       "      <td>2020-01-30</td>\n",
       "      <td>872</td>\n",
       "      <td>814</td>\n",
       "      <td>858</td>\n",
       "      <td>825</td>\n",
       "      <td>2086738</td>\n",
       "      <td>0.00</td>\n",
       "      <td>0.00</td>\n",
       "      <td>0.00</td>\n",
       "      <td>-151.06</td>\n",
       "      <td>-0.66</td>\n",
       "      <td>0.00</td>\n",
       "    </tr>\n",
       "    <tr>\n",
       "      <th>2</th>\n",
       "      <td>2020-01-29</td>\n",
       "      <td>878</td>\n",
       "      <td>775</td>\n",
       "      <td>800</td>\n",
       "      <td>855</td>\n",
       "      <td>2452306</td>\n",
       "      <td>0.00</td>\n",
       "      <td>0.00</td>\n",
       "      <td>0.00</td>\n",
       "      <td>-145.76</td>\n",
       "      <td>-0.69</td>\n",
       "      <td>0.00</td>\n",
       "    </tr>\n",
       "    <tr>\n",
       "      <th>3</th>\n",
       "      <td>2020-01-28</td>\n",
       "      <td>1260</td>\n",
       "      <td>1181</td>\n",
       "      <td>1260</td>\n",
       "      <td>1200</td>\n",
       "      <td>2247292</td>\n",
       "      <td>0.00</td>\n",
       "      <td>0.00</td>\n",
       "      <td>0.00</td>\n",
       "      <td>-144.75</td>\n",
       "      <td>-0.69</td>\n",
       "      <td>0.00</td>\n",
       "    </tr>\n",
       "    <tr>\n",
       "      <th>4</th>\n",
       "      <td>2020-01-27</td>\n",
       "      <td>1296</td>\n",
       "      <td>1236</td>\n",
       "      <td>1236</td>\n",
       "      <td>1260</td>\n",
       "      <td>1634503</td>\n",
       "      <td>0.00</td>\n",
       "      <td>0.00</td>\n",
       "      <td>0.00</td>\n",
       "      <td>-137.86</td>\n",
       "      <td>-0.73</td>\n",
       "      <td>0.00</td>\n",
       "    </tr>\n",
       "    <tr>\n",
       "      <th>...</th>\n",
       "      <td>...</td>\n",
       "      <td>...</td>\n",
       "      <td>...</td>\n",
       "      <td>...</td>\n",
       "      <td>...</td>\n",
       "      <td>...</td>\n",
       "      <td>...</td>\n",
       "      <td>...</td>\n",
       "      <td>...</td>\n",
       "      <td>...</td>\n",
       "      <td>...</td>\n",
       "      <td>...</td>\n",
       "    </tr>\n",
       "    <tr>\n",
       "      <th>144</th>\n",
       "      <td>2019-07-05</td>\n",
       "      <td>1965</td>\n",
       "      <td>1900</td>\n",
       "      <td>1910</td>\n",
       "      <td>1942</td>\n",
       "      <td>369715</td>\n",
       "      <td>0.00</td>\n",
       "      <td>0.00</td>\n",
       "      <td>0.00</td>\n",
       "      <td>-107.72</td>\n",
       "      <td>-0.93</td>\n",
       "      <td>0.00</td>\n",
       "    </tr>\n",
       "    <tr>\n",
       "      <th>145</th>\n",
       "      <td>2019-07-04</td>\n",
       "      <td>1917</td>\n",
       "      <td>1835</td>\n",
       "      <td>1835</td>\n",
       "      <td>1910</td>\n",
       "      <td>320730</td>\n",
       "      <td>0.00</td>\n",
       "      <td>0.00</td>\n",
       "      <td>0.00</td>\n",
       "      <td>-109.53</td>\n",
       "      <td>-0.91</td>\n",
       "      <td>0.00</td>\n",
       "    </tr>\n",
       "    <tr>\n",
       "      <th>146</th>\n",
       "      <td>2019-07-03</td>\n",
       "      <td>1884</td>\n",
       "      <td>1825</td>\n",
       "      <td>1845</td>\n",
       "      <td>1863</td>\n",
       "      <td>345884</td>\n",
       "      <td>0.00</td>\n",
       "      <td>0.00</td>\n",
       "      <td>0.00</td>\n",
       "      <td>-112.29</td>\n",
       "      <td>-0.89</td>\n",
       "      <td>0.00</td>\n",
       "    </tr>\n",
       "    <tr>\n",
       "      <th>147</th>\n",
       "      <td>2019-07-02</td>\n",
       "      <td>1930</td>\n",
       "      <td>1846</td>\n",
       "      <td>1875</td>\n",
       "      <td>1850</td>\n",
       "      <td>472473</td>\n",
       "      <td>0.00</td>\n",
       "      <td>0.00</td>\n",
       "      <td>0.00</td>\n",
       "      <td>-113.08</td>\n",
       "      <td>-0.88</td>\n",
       "      <td>0.00</td>\n",
       "    </tr>\n",
       "    <tr>\n",
       "      <th>148</th>\n",
       "      <td>2019-07-01</td>\n",
       "      <td>1915</td>\n",
       "      <td>1835</td>\n",
       "      <td>1850</td>\n",
       "      <td>1912</td>\n",
       "      <td>942151</td>\n",
       "      <td>0.00</td>\n",
       "      <td>0.00</td>\n",
       "      <td>0.00</td>\n",
       "      <td>-109.41</td>\n",
       "      <td>-0.91</td>\n",
       "      <td>0.00</td>\n",
       "    </tr>\n",
       "  </tbody>\n",
       "</table>\n",
       "<p>149 rows × 12 columns</p>\n",
       "</div>"
      ],
      "text/plain": [
       "0         Date  High   Low  Open Close   Volume InterestYield  \\\n",
       "0   2020-01-31   827   784   805   821  3540064          0.00   \n",
       "1   2020-01-30   872   814   858   825  2086738          0.00   \n",
       "2   2020-01-29   878   775   800   855  2452306          0.00   \n",
       "3   2020-01-28  1260  1181  1260  1200  2247292          0.00   \n",
       "4   2020-01-27  1296  1236  1236  1260  1634503          0.00   \n",
       "..         ...   ...   ...   ...   ...      ...           ...   \n",
       "144 2019-07-05  1965  1900  1910  1942   369715          0.00   \n",
       "145 2019-07-04  1917  1835  1835  1910   320730          0.00   \n",
       "146 2019-07-03  1884  1825  1845  1863   345884          0.00   \n",
       "147 2019-07-02  1930  1846  1875  1850   472473          0.00   \n",
       "148 2019-07-01  1915  1835  1850  1912   942151          0.00   \n",
       "\n",
       "0   CapitalPaymentYield TotalDistributionYield       EY    P/E    DY  \n",
       "0                  0.00                   0.00  -151.80  -0.66  0.00  \n",
       "1                  0.00                   0.00  -151.06  -0.66  0.00  \n",
       "2                  0.00                   0.00  -145.76  -0.69  0.00  \n",
       "3                  0.00                   0.00  -144.75  -0.69  0.00  \n",
       "4                  0.00                   0.00  -137.86  -0.73  0.00  \n",
       "..                  ...                    ...      ...    ...   ...  \n",
       "144                0.00                   0.00  -107.72  -0.93  0.00  \n",
       "145                0.00                   0.00  -109.53  -0.91  0.00  \n",
       "146                0.00                   0.00  -112.29  -0.89  0.00  \n",
       "147                0.00                   0.00  -113.08  -0.88  0.00  \n",
       "148                0.00                   0.00  -109.41  -0.91  0.00  \n",
       "\n",
       "[149 rows x 12 columns]"
      ]
     },
     "execution_count": 6,
     "metadata": {},
     "output_type": "execute_result"
    }
   ],
   "source": [
    "Indicator['Date'] = pd.to_datetime(Indicator.Date) #changing date format\n",
    "Indicator"
   ]
  },
  {
   "cell_type": "code",
   "execution_count": 7,
   "metadata": {},
   "outputs": [],
   "source": [
    "#changing data type to float for easy calculation\n",
    "Indicator['High']=Indicator.High.astype('float')\n",
    "Indicator['Close']=Indicator.Close.astype('float')\n",
    "Indicator['Low']=Indicator.Low.astype('float')\n",
    "Indicator['Open']=Indicator.Open.astype('float')"
   ]
  },
  {
   "cell_type": "code",
   "execution_count": 8,
   "metadata": {},
   "outputs": [],
   "source": [
    "#deleting columns not neccessary fot indicator calculation\n",
    "del Indicator['Volume'],Indicator['TotalDistributionYield'], Indicator['InterestYield'], Indicator['CapitalPaymentYield'], Indicator['EY'], Indicator['DY'], Indicator['P/E']\n",
    "#Indicator"
   ]
  },
  {
   "cell_type": "code",
   "execution_count": 9,
   "metadata": {},
   "outputs": [
    {
     "data": {
      "text/plain": [
       "count     149.000000\n",
       "mean     1514.436242\n",
       "std       203.137662\n",
       "min       821.000000\n",
       "25%      1375.000000\n",
       "50%      1502.000000\n",
       "75%      1695.000000\n",
       "max      1942.000000\n",
       "Name: Close, dtype: float64"
      ]
     },
     "execution_count": 9,
     "metadata": {},
     "output_type": "execute_result"
    }
   ],
   "source": [
    "#descriptive statistics\n",
    "Indicator[\"Close\"].describe()"
   ]
  },
  {
   "cell_type": "code",
   "execution_count": 10,
   "metadata": {},
   "outputs": [],
   "source": [
    "def RSI(value):\n",
    "    '''\n",
    "    The function calculates the relative strength index parameters \n",
    "    to be used to calculate 14_day rsi values\n",
    "    '''\n",
    "    up = value[value>0].mean()\n",
    "    down = -value[value<0].mean()\n",
    "    return (100 * up / (up + down))\n",
    "\n",
    "Indicator['Direction'] = (Indicator['Close'] - Indicator['Close'].shift(1)) #adding momentum\n",
    "Indicator['RSI_14D'] = Indicator['Direction'].rolling(center=False, window=14).apply(RSI) #14D RSI"
   ]
  },
  {
   "cell_type": "code",
   "execution_count": 12,
   "metadata": {},
   "outputs": [],
   "source": [
    "l = []\n",
    "for i in range (len(Indicator)):\n",
    "    if Indicator['RSI_14D'][i] >= 28 and Indicator['RSI_14D'][i] <= 30:#values in this range satisfy a buy condition\n",
    "        l.append(1) #buy\n",
    "    elif Indicator['RSI_14D'][i] >= 31 and Indicator['RSI_14D'][i] <= 69:#values in this range satisfy a hold condition\n",
    "        l.append(2) #hold\n",
    "    elif Indicator['RSI_14D'][i] >= 70:#values in this range satisfy a sell condition\n",
    "        l.append(3)#sell\n",
    "    else:\n",
    "        l.append(2) #hold signal\n",
    "Indicator['RSI_sig'] = l"
   ]
  },
  {
   "cell_type": "code",
   "execution_count": 13,
   "metadata": {},
   "outputs": [
    {
     "data": {
      "image/png": "[encoded data removed]",
      "text/plain": [
       "<Figure size 432x288 with 1 Axes>"
      ]
     },
     "metadata": {
      "needs_background": "light"
     },
     "output_type": "display_data"
    },
    {
     "data": {
      "text/plain": [
       "2    126\n",
       "3     22\n",
       "1      1\n",
       "Name: RSI_sig, dtype: int64"
      ]
     },
     "execution_count": 13,
     "metadata": {},
     "output_type": "execute_result"
    }
   ],
   "source": [
    "sns.countplot(x = 'RSI_sig', data=pd.DataFrame(Indicator), hue='RSI_sig')#plots frequency of signals\n",
    "plt.savefig(\"brait_rsicount\")\n",
    "plt.show()\n",
    "Indicator['RSI_sig'].value_counts() #counts according to signal code "
   ]
  },
  {
   "cell_type": "code",
   "execution_count": 14,
   "metadata": {},
   "outputs": [
    {
     "data": {
      "image/png": "[encoded data removed]",
      "text/plain": [
       "<Figure size 432x288 with 1 Axes>"
      ]
     },
     "metadata": {
      "needs_background": "light"
     },
     "output_type": "display_data"
    }
   ],
   "source": [
    "#graphical representation of indicator\n",
    "r = Indicator['RSI_14D']\n",
    "h = [0,160]\n",
    "b = [30,30]\n",
    "f = plt.plot(r, label = 'RSI_14D')\n",
    "e = [70,70]\n",
    "g = plt.plot(h,b,h,e) + f\n",
    "plt.ylabel('Threshold value')\n",
    "plt.xlabel('Days')\n",
    "plt.legend()\n",
    "plt.savefig(\"brait_rsi\")\n",
    "plt.show(g)"
   ]
  },
  {
   "cell_type": "code",
   "execution_count": 15,
   "metadata": {},
   "outputs": [],
   "source": [
    "n=21\n",
    "Indicator['STOK'] = ((Indicator['Close'] - Indicator['Low'].rolling(window=n,center=False).mean()) /\n",
    "                     (Indicator['High'].rolling(window=n, center=False).max() - \n",
    "                      Indicator['Low'].rolling(window=n, center=False).min())) * 100 #D% stochastic\n",
    "Indicator['STOD'] = Indicator['STOK'].rolling(window = 7, center=False).mean()  #K% stochastic "
   ]
  },
  {
   "cell_type": "code",
   "execution_count": 16,
   "metadata": {},
   "outputs": [],
   "source": [
    "m = []\n",
    "for i in range (len(Indicator)):\n",
    "    if Indicator['STOK'][i] >= 28 and Indicator['STOK'][i]<=30:#values in this range satisfy a buy condition\n",
    "        m.append(1) #buy\n",
    "    elif Indicator['STOK'][i] > 30 and Indicator['STOK'][i] < 70:#values in this range satisfy a hold condition\n",
    "        m.append(2) #sell    \n",
    "    elif Indicator['STOK'][i] >= 70:#values in this range satisfy a sell condition\n",
    "        m.append(3) #sell\n",
    "    else:\n",
    "        m.append(2) #hold\n",
    "Indicator['STO_sig'] = m"
   ]
  },
  {
   "cell_type": "code",
   "execution_count": 17,
   "metadata": {},
   "outputs": [
    {
     "data": {
      "image/png": "[encoded data removed]",
      "text/plain": [
       "<Figure size 432x288 with 1 Axes>"
      ]
     },
     "metadata": {
      "needs_background": "light"
     },
     "output_type": "display_data"
    },
    {
     "data": {
      "text/plain": [
       "2    144\n",
       "1      5\n",
       "Name: STO_sig, dtype: int64"
      ]
     },
     "execution_count": 17,
     "metadata": {},
     "output_type": "execute_result"
    }
   ],
   "source": [
    "sns.countplot(x = 'STO_sig', data=pd.DataFrame(Indicator), hue='STO_sig')#plots frequency of signals\n",
    "plt.savefig(\"brait_stocount\")\n",
    "plt.show()\n",
    "Indicator['STO_sig'].value_counts()#counts frequency of signals"
   ]
  },
  {
   "cell_type": "code",
   "execution_count": 18,
   "metadata": {},
   "outputs": [
    {
     "data": {
      "image/png": "[encoded data removed]",
      "text/plain": [
       "<Figure size 432x288 with 1 Axes>"
      ]
     },
     "metadata": {
      "needs_background": "light"
     },
     "output_type": "display_data"
    }
   ],
   "source": [
    "#graphical representation of indicator\n",
    "t = Indicator['STOD']\n",
    "j = Indicator['STOK']\n",
    "u = plt.plot(t, label = 'STOD')\n",
    "s = plt.plot(j, label = 'STOK')\n",
    "h = [0,160]\n",
    "b = [30,30]\n",
    "e = [70,70]\n",
    "g = plt.plot(h,e,h,b) + u + s\n",
    "plt.ylabel('Threshold value')\n",
    "plt.xlabel('Days')\n",
    "plt.legend()\n",
    "plt.savefig(\"brait_sto\")\n",
    "plt.show()"
   ]
  },
  {
   "cell_type": "code",
   "execution_count": 19,
   "metadata": {},
   "outputs": [],
   "source": [
    "Indicator['EMA_10'] = Indicator['Close'].ewm(span=10,adjust=False,min_periods=1).mean() #10day exponential ma\n",
    "Indicator['EMA_30'] = Indicator['Close'].ewm(span=20,adjust=False,min_periods=1).mean() #30day exponential ma\n",
    "Indicator['EMA_90'] = Indicator['Close'].ewm(span=90,adjust=False,min_periods=1).mean() #90day exponential ma"
   ]
  },
  {
   "cell_type": "code",
   "execution_count": 20,
   "metadata": {},
   "outputs": [],
   "source": [
    "# append 1 for a buy, 0 for a sell and 2 for hold and NaN\n",
    "n = []\n",
    "for i in range (len(Indicator)):\n",
    "    if Indicator['EMA_10'][i] < Indicator['EMA_30'][i] and Indicator['EMA_90'][i]:#values in this range satisfy a buy condition\n",
    "        n.append(1) #buy\n",
    "    elif Indicator['EMA_10'][i] > Indicator['EMA_30'][i] and Indicator['EMA_90'][i]:#values in this range satisfy a hold condition\n",
    "        n.append(3) #sell\n",
    "    elif Indicator['EMA_10'][i] == Indicator['EMA_30'][i] == Indicator['EMA_90'][i]:#values in this range satisfy a sell condition\n",
    "        n.append(2)  #hold      \n",
    "    else:\n",
    "        n.append(2)#hold\n",
    "Indicator['EMA_sig'] = n     "
   ]
  },
  {
   "cell_type": "code",
   "execution_count": 21,
   "metadata": {},
   "outputs": [
    {
     "data": {
      "image/png": "[encoded data removed]",
      "text/plain": [
       "<Figure size 432x288 with 1 Axes>"
      ]
     },
     "metadata": {
      "needs_background": "light"
     },
     "output_type": "display_data"
    },
    {
     "data": {
      "text/plain": [
       "3    99\n",
       "1    49\n",
       "2     1\n",
       "Name: EMA_sig, dtype: int64"
      ]
     },
     "execution_count": 21,
     "metadata": {},
     "output_type": "execute_result"
    }
   ],
   "source": [
    "sns.countplot(x = 'EMA_sig', data=pd.DataFrame(Indicator), hue='EMA_sig')#plots frequency of signals\n",
    "plt.savefig(\"brait_emacount\")\n",
    "plt.show()\n",
    "Indicator['EMA_sig'].value_counts()#counts exact frequency of signals "
   ]
  },
  {
   "cell_type": "code",
   "execution_count": 22,
   "metadata": {},
   "outputs": [
    {
     "data": {
      "image/png": "[encoded data removed]",
      "text/plain": [
       "<Figure size 432x288 with 1 Axes>"
      ]
     },
     "metadata": {
      "needs_background": "light"
     },
     "output_type": "display_data"
    }
   ],
   "source": [
    "# buy if 50EMA line cuts the other two EMA lines from above and moves below both the EMAs\n",
    "# sell if 50EMA line cuts the other two EMA lines from below and moves above both the EMAs\n",
    "a = Indicator['EMA_10'] #50 day exponential moving average\n",
    "b = Indicator['EMA_30'] #100 day exponential moving average\n",
    "c = Indicator['EMA_90'] #200 day exponential moving average\n",
    "d = plt.plot(a, label = 'EMA_10' ) + plt.plot(b, label = 'EMA_30') + plt.plot(c, label = 'EMA_90')\n",
    "plt.ylabel('Threshold value')\n",
    "plt.xlabel('Days')\n",
    "plt.legend()\n",
    "plt.savefig(\"brait_ema\")\n",
    "plt.show(d)"
   ]
  },
  {
   "cell_type": "code",
   "execution_count": 23,
   "metadata": {},
   "outputs": [],
   "source": [
    "Indicator['26_ema'] = Indicator['Close'].ewm(span=26,adjust=True,ignore_na=False).mean() #26day ema\n",
    "Indicator['12_ema'] = Indicator['Close'].ewm(span=12,adjust=True,ignore_na=False).mean() #12day ema\n",
    "Indicator['MACD'] = Indicator['12_ema'] - Indicator['26_ema'] #macd\n",
    "Indicator['9EMA_MACD'] = Indicator['MACD'].ewm(span=9,adjust=True,ignore_na=False).mean() #9daymacd_ema\n",
    "#Indicator"
   ]
  },
  {
   "cell_type": "code",
   "execution_count": 24,
   "metadata": {},
   "outputs": [],
   "source": [
    "f = []\n",
    "for i in range (len(Indicator)):\n",
    "    if Indicator['MACD'][i] > Indicator['9EMA_MACD'][i]:#values in this range satisfy a buy condition\n",
    "        f.append(1) #buy\n",
    "    elif Indicator['MACD'][i] < Indicator['9EMA_MACD'][i]:#values in this range satisfy a sell condition\n",
    "        f.append(3) #sell     \n",
    "    else:\n",
    "        f.append(2)#hold\n",
    "Indicator['MACD_sig'] = f "
   ]
  },
  {
   "cell_type": "code",
   "execution_count": 25,
   "metadata": {},
   "outputs": [
    {
     "data": {
      "image/png": "[encoded data removed]",
      "text/plain": [
       "<Figure size 432x288 with 1 Axes>"
      ]
     },
     "metadata": {
      "needs_background": "light"
     },
     "output_type": "display_data"
    },
    {
     "data": {
      "text/plain": [
       "1    79\n",
       "3    69\n",
       "2     1\n",
       "Name: MACD_sig, dtype: int64"
      ]
     },
     "execution_count": 25,
     "metadata": {},
     "output_type": "execute_result"
    }
   ],
   "source": [
    "sns.countplot(x = 'MACD_sig', data=pd.DataFrame(Indicator), hue='MACD_sig')#plots frequency of signals\n",
    "plt.savefig(\"brait_macdcount\")\n",
    "plt.show()\n",
    "Indicator['MACD_sig'].value_counts()#counts the exact frequency of each signal"
   ]
  },
  {
   "cell_type": "code",
   "execution_count": 26,
   "metadata": {},
   "outputs": [
    {
     "data": {
      "image/png": "[encoded data removed]",
      "text/plain": [
       "<Figure size 432x288 with 1 Axes>"
      ]
     },
     "metadata": {
      "needs_background": "light"
     },
     "output_type": "display_data"
    }
   ],
   "source": [
    "#graphical representation of indicator\n",
    "q = Indicator['9EMA_MACD']\n",
    "e = Indicator['MACD']\n",
    "z = [0,160]\n",
    "x = [0,0]\n",
    "r = plt.plot(z,x)+ plt.plot(e, label = 'MACD') +plt.plot(q, label = '9EMA_MACD')\n",
    "plt.ylabel('Threshold value')\n",
    "plt.xlabel('Days')\n",
    "plt.legend()\n",
    "plt.savefig(\"brait_macd\")\n",
    "plt.show(r)"
   ]
  },
  {
   "cell_type": "code",
   "execution_count": 27,
   "metadata": {},
   "outputs": [],
   "source": [
    "#Indicator"
   ]
  },
  {
   "cell_type": "code",
   "execution_count": 28,
   "metadata": {},
   "outputs": [],
   "source": [
    "#change from dataframe to numpy for easy adding\n",
    "new1 = Indicator['RSI_sig'].to_numpy()\n",
    "new2 = Indicator['MACD_sig'].to_numpy()\n",
    "new3 = Indicator['EMA_sig'].to_numpy()\n",
    "new4 = Indicator['STO_sig'].to_numpy()"
   ]
  },
  {
   "cell_type": "code",
   "execution_count": 29,
   "metadata": {},
   "outputs": [],
   "source": [
    "b = []\n",
    "for i in range (len(new2)):\n",
    "    if new1[i] + new2[i] + new3[i] + new4[i] <= 6:#values in this range satisfy a buy decision\n",
    "        b.append(1)\n",
    "    elif new1[i] + new2[i] + new3[i] + new4[i] >=10:#values in this range satisfy a sell decision\n",
    "        b.append(3)\n",
    "    else:\n",
    "        b.append(2) #values in this range satisfy a hold decision\n",
    "new5 = pd.Series(b)  \n",
    "#new5"
   ]
  },
  {
   "cell_type": "code",
   "execution_count": 30,
   "metadata": {
    "scrolled": true
   },
   "outputs": [
    {
     "data": {
      "text/html": [
       "<div>\n",
       "<style scoped>\n",
       "    .dataframe tbody tr th:only-of-type {\n",
       "        vertical-align: middle;\n",
       "    }\n",
       "\n",
       "    .dataframe tbody tr th {\n",
       "        vertical-align: top;\n",
       "    }\n",
       "\n",
       "    .dataframe thead th {\n",
       "        text-align: right;\n",
       "    }\n",
       "</style>\n",
       "<table border=\"1\" class=\"dataframe\">\n",
       "  <thead>\n",
       "    <tr style=\"text-align: right;\">\n",
       "      <th></th>\n",
       "      <th>Date</th>\n",
       "      <th>High</th>\n",
       "      <th>Low</th>\n",
       "      <th>Open</th>\n",
       "      <th>Close</th>\n",
       "      <th>Direction</th>\n",
       "      <th>RSI_14D</th>\n",
       "      <th>RSI_sig</th>\n",
       "      <th>STOK</th>\n",
       "      <th>STOD</th>\n",
       "      <th>...</th>\n",
       "      <th>EMA_10</th>\n",
       "      <th>EMA_30</th>\n",
       "      <th>EMA_90</th>\n",
       "      <th>EMA_sig</th>\n",
       "      <th>26_ema</th>\n",
       "      <th>12_ema</th>\n",
       "      <th>MACD</th>\n",
       "      <th>9EMA_MACD</th>\n",
       "      <th>MACD_sig</th>\n",
       "      <th>Decision</th>\n",
       "    </tr>\n",
       "  </thead>\n",
       "  <tbody>\n",
       "    <tr>\n",
       "      <th>0</th>\n",
       "      <td>2020-01-31</td>\n",
       "      <td>827.0</td>\n",
       "      <td>784.0</td>\n",
       "      <td>805.0</td>\n",
       "      <td>821.0</td>\n",
       "      <td>NaN</td>\n",
       "      <td>NaN</td>\n",
       "      <td>2</td>\n",
       "      <td>NaN</td>\n",
       "      <td>NaN</td>\n",
       "      <td>...</td>\n",
       "      <td>821.000000</td>\n",
       "      <td>821.000000</td>\n",
       "      <td>821.000000</td>\n",
       "      <td>2</td>\n",
       "      <td>821.000000</td>\n",
       "      <td>821.000000</td>\n",
       "      <td>0.000000</td>\n",
       "      <td>0.000000</td>\n",
       "      <td>2</td>\n",
       "      <td>2</td>\n",
       "    </tr>\n",
       "    <tr>\n",
       "      <th>1</th>\n",
       "      <td>2020-01-30</td>\n",
       "      <td>872.0</td>\n",
       "      <td>814.0</td>\n",
       "      <td>858.0</td>\n",
       "      <td>825.0</td>\n",
       "      <td>4.0</td>\n",
       "      <td>NaN</td>\n",
       "      <td>2</td>\n",
       "      <td>NaN</td>\n",
       "      <td>NaN</td>\n",
       "      <td>...</td>\n",
       "      <td>821.727273</td>\n",
       "      <td>821.380952</td>\n",
       "      <td>821.087912</td>\n",
       "      <td>3</td>\n",
       "      <td>823.076923</td>\n",
       "      <td>823.166667</td>\n",
       "      <td>0.089744</td>\n",
       "      <td>0.049858</td>\n",
       "      <td>1</td>\n",
       "      <td>2</td>\n",
       "    </tr>\n",
       "    <tr>\n",
       "      <th>2</th>\n",
       "      <td>2020-01-29</td>\n",
       "      <td>878.0</td>\n",
       "      <td>775.0</td>\n",
       "      <td>800.0</td>\n",
       "      <td>855.0</td>\n",
       "      <td>30.0</td>\n",
       "      <td>NaN</td>\n",
       "      <td>2</td>\n",
       "      <td>NaN</td>\n",
       "      <td>NaN</td>\n",
       "      <td>...</td>\n",
       "      <td>827.776860</td>\n",
       "      <td>824.582766</td>\n",
       "      <td>821.833233</td>\n",
       "      <td>3</td>\n",
       "      <td>834.546575</td>\n",
       "      <td>835.591224</td>\n",
       "      <td>1.044649</td>\n",
       "      <td>0.457559</td>\n",
       "      <td>1</td>\n",
       "      <td>2</td>\n",
       "    </tr>\n",
       "    <tr>\n",
       "      <th>3</th>\n",
       "      <td>2020-01-28</td>\n",
       "      <td>1260.0</td>\n",
       "      <td>1181.0</td>\n",
       "      <td>1260.0</td>\n",
       "      <td>1200.0</td>\n",
       "      <td>345.0</td>\n",
       "      <td>NaN</td>\n",
       "      <td>2</td>\n",
       "      <td>NaN</td>\n",
       "      <td>NaN</td>\n",
       "      <td>...</td>\n",
       "      <td>895.453794</td>\n",
       "      <td>860.336789</td>\n",
       "      <td>830.144590</td>\n",
       "      <td>3</td>\n",
       "      <td>936.711382</td>\n",
       "      <td>950.620833</td>\n",
       "      <td>13.909451</td>\n",
       "      <td>5.014433</td>\n",
       "      <td>1</td>\n",
       "      <td>2</td>\n",
       "    </tr>\n",
       "    <tr>\n",
       "      <th>4</th>\n",
       "      <td>2020-01-27</td>\n",
       "      <td>1296.0</td>\n",
       "      <td>1236.0</td>\n",
       "      <td>1236.0</td>\n",
       "      <td>1260.0</td>\n",
       "      <td>60.0</td>\n",
       "      <td>NaN</td>\n",
       "      <td>2</td>\n",
       "      <td>NaN</td>\n",
       "      <td>NaN</td>\n",
       "      <td>...</td>\n",
       "      <td>961.734922</td>\n",
       "      <td>898.399952</td>\n",
       "      <td>839.591962</td>\n",
       "      <td>3</td>\n",
       "      <td>1011.683346</td>\n",
       "      <td>1034.678047</td>\n",
       "      <td>22.994701</td>\n",
       "      <td>10.363156</td>\n",
       "      <td>1</td>\n",
       "      <td>2</td>\n",
       "    </tr>\n",
       "    <tr>\n",
       "      <th>...</th>\n",
       "      <td>...</td>\n",
       "      <td>...</td>\n",
       "      <td>...</td>\n",
       "      <td>...</td>\n",
       "      <td>...</td>\n",
       "      <td>...</td>\n",
       "      <td>...</td>\n",
       "      <td>...</td>\n",
       "      <td>...</td>\n",
       "      <td>...</td>\n",
       "      <td>...</td>\n",
       "      <td>...</td>\n",
       "      <td>...</td>\n",
       "      <td>...</td>\n",
       "      <td>...</td>\n",
       "      <td>...</td>\n",
       "      <td>...</td>\n",
       "      <td>...</td>\n",
       "      <td>...</td>\n",
       "      <td>...</td>\n",
       "      <td>...</td>\n",
       "    </tr>\n",
       "    <tr>\n",
       "      <th>144</th>\n",
       "      <td>2019-07-05</td>\n",
       "      <td>1965.0</td>\n",
       "      <td>1900.0</td>\n",
       "      <td>1910.0</td>\n",
       "      <td>1942.0</td>\n",
       "      <td>26.0</td>\n",
       "      <td>83.311081</td>\n",
       "      <td>3</td>\n",
       "      <td>40.800742</td>\n",
       "      <td>41.955539</td>\n",
       "      <td>...</td>\n",
       "      <td>1806.498671</td>\n",
       "      <td>1697.799386</td>\n",
       "      <td>1525.371104</td>\n",
       "      <td>3</td>\n",
       "      <td>1656.448748</td>\n",
       "      <td>1780.717303</td>\n",
       "      <td>124.268555</td>\n",
       "      <td>96.719676</td>\n",
       "      <td>1</td>\n",
       "      <td>2</td>\n",
       "    </tr>\n",
       "    <tr>\n",
       "      <th>145</th>\n",
       "      <td>2019-07-04</td>\n",
       "      <td>1917.0</td>\n",
       "      <td>1835.0</td>\n",
       "      <td>1835.0</td>\n",
       "      <td>1910.0</td>\n",
       "      <td>-32.0</td>\n",
       "      <td>70.588235</td>\n",
       "      <td>3</td>\n",
       "      <td>33.126057</td>\n",
       "      <td>39.465730</td>\n",
       "      <td>...</td>\n",
       "      <td>1825.317094</td>\n",
       "      <td>1718.008968</td>\n",
       "      <td>1533.824486</td>\n",
       "      <td>3</td>\n",
       "      <td>1675.230570</td>\n",
       "      <td>1800.606949</td>\n",
       "      <td>125.376379</td>\n",
       "      <td>102.451016</td>\n",
       "      <td>1</td>\n",
       "      <td>2</td>\n",
       "    </tr>\n",
       "    <tr>\n",
       "      <th>146</th>\n",
       "      <td>2019-07-03</td>\n",
       "      <td>1884.0</td>\n",
       "      <td>1825.0</td>\n",
       "      <td>1845.0</td>\n",
       "      <td>1863.0</td>\n",
       "      <td>-47.0</td>\n",
       "      <td>61.244019</td>\n",
       "      <td>2</td>\n",
       "      <td>25.402661</td>\n",
       "      <td>36.915401</td>\n",
       "      <td>...</td>\n",
       "      <td>1832.168532</td>\n",
       "      <td>1731.817638</td>\n",
       "      <td>1541.059113</td>\n",
       "      <td>3</td>\n",
       "      <td>1689.139586</td>\n",
       "      <td>1810.205880</td>\n",
       "      <td>121.066293</td>\n",
       "      <td>106.174072</td>\n",
       "      <td>1</td>\n",
       "      <td>2</td>\n",
       "    </tr>\n",
       "    <tr>\n",
       "      <th>147</th>\n",
       "      <td>2019-07-02</td>\n",
       "      <td>1930.0</td>\n",
       "      <td>1846.0</td>\n",
       "      <td>1875.0</td>\n",
       "      <td>1850.0</td>\n",
       "      <td>-13.0</td>\n",
       "      <td>64.245810</td>\n",
       "      <td>2</td>\n",
       "      <td>27.490655</td>\n",
       "      <td>34.817734</td>\n",
       "      <td>...</td>\n",
       "      <td>1835.410617</td>\n",
       "      <td>1743.073101</td>\n",
       "      <td>1547.849023</td>\n",
       "      <td>3</td>\n",
       "      <td>1701.055307</td>\n",
       "      <td>1816.328052</td>\n",
       "      <td>115.272745</td>\n",
       "      <td>107.993806</td>\n",
       "      <td>1</td>\n",
       "      <td>2</td>\n",
       "    </tr>\n",
       "    <tr>\n",
       "      <th>148</th>\n",
       "      <td>2019-07-01</td>\n",
       "      <td>1915.0</td>\n",
       "      <td>1835.0</td>\n",
       "      <td>1850.0</td>\n",
       "      <td>1912.0</td>\n",
       "      <td>62.0</td>\n",
       "      <td>68.068425</td>\n",
       "      <td>2</td>\n",
       "      <td>35.960884</td>\n",
       "      <td>34.374567</td>\n",
       "      <td>...</td>\n",
       "      <td>1849.335959</td>\n",
       "      <td>1759.161377</td>\n",
       "      <td>1555.852341</td>\n",
       "      <td>3</td>\n",
       "      <td>1716.681004</td>\n",
       "      <td>1831.046813</td>\n",
       "      <td>114.365810</td>\n",
       "      <td>109.268207</td>\n",
       "      <td>1</td>\n",
       "      <td>2</td>\n",
       "    </tr>\n",
       "  </tbody>\n",
       "</table>\n",
       "<p>149 rows × 21 columns</p>\n",
       "</div>"
      ],
      "text/plain": [
       "0         Date    High     Low    Open   Close  Direction    RSI_14D  RSI_sig  \\\n",
       "0   2020-01-31   827.0   784.0   805.0   821.0        NaN        NaN        2   \n",
       "1   2020-01-30   872.0   814.0   858.0   825.0        4.0        NaN        2   \n",
       "2   2020-01-29   878.0   775.0   800.0   855.0       30.0        NaN        2   \n",
       "3   2020-01-28  1260.0  1181.0  1260.0  1200.0      345.0        NaN        2   \n",
       "4   2020-01-27  1296.0  1236.0  1236.0  1260.0       60.0        NaN        2   \n",
       "..         ...     ...     ...     ...     ...        ...        ...      ...   \n",
       "144 2019-07-05  1965.0  1900.0  1910.0  1942.0       26.0  83.311081        3   \n",
       "145 2019-07-04  1917.0  1835.0  1835.0  1910.0      -32.0  70.588235        3   \n",
       "146 2019-07-03  1884.0  1825.0  1845.0  1863.0      -47.0  61.244019        2   \n",
       "147 2019-07-02  1930.0  1846.0  1875.0  1850.0      -13.0  64.245810        2   \n",
       "148 2019-07-01  1915.0  1835.0  1850.0  1912.0       62.0  68.068425        2   \n",
       "\n",
       "0         STOK       STOD  ...       EMA_10       EMA_30       EMA_90  \\\n",
       "0          NaN        NaN  ...   821.000000   821.000000   821.000000   \n",
       "1          NaN        NaN  ...   821.727273   821.380952   821.087912   \n",
       "2          NaN        NaN  ...   827.776860   824.582766   821.833233   \n",
       "3          NaN        NaN  ...   895.453794   860.336789   830.144590   \n",
       "4          NaN        NaN  ...   961.734922   898.399952   839.591962   \n",
       "..         ...        ...  ...          ...          ...          ...   \n",
       "144  40.800742  41.955539  ...  1806.498671  1697.799386  1525.371104   \n",
       "145  33.126057  39.465730  ...  1825.317094  1718.008968  1533.824486   \n",
       "146  25.402661  36.915401  ...  1832.168532  1731.817638  1541.059113   \n",
       "147  27.490655  34.817734  ...  1835.410617  1743.073101  1547.849023   \n",
       "148  35.960884  34.374567  ...  1849.335959  1759.161377  1555.852341   \n",
       "\n",
       "0    EMA_sig       26_ema       12_ema        MACD   9EMA_MACD  MACD_sig  \\\n",
       "0          2   821.000000   821.000000    0.000000    0.000000         2   \n",
       "1          3   823.076923   823.166667    0.089744    0.049858         1   \n",
       "2          3   834.546575   835.591224    1.044649    0.457559         1   \n",
       "3          3   936.711382   950.620833   13.909451    5.014433         1   \n",
       "4          3  1011.683346  1034.678047   22.994701   10.363156         1   \n",
       "..       ...          ...          ...         ...         ...       ...   \n",
       "144        3  1656.448748  1780.717303  124.268555   96.719676         1   \n",
       "145        3  1675.230570  1800.606949  125.376379  102.451016         1   \n",
       "146        3  1689.139586  1810.205880  121.066293  106.174072         1   \n",
       "147        3  1701.055307  1816.328052  115.272745  107.993806         1   \n",
       "148        3  1716.681004  1831.046813  114.365810  109.268207         1   \n",
       "\n",
       "0    Decision  \n",
       "0           2  \n",
       "1           2  \n",
       "2           2  \n",
       "3           2  \n",
       "4           2  \n",
       "..        ...  \n",
       "144         2  \n",
       "145         2  \n",
       "146         2  \n",
       "147         2  \n",
       "148         2  \n",
       "\n",
       "[149 rows x 21 columns]"
      ]
     },
     "execution_count": 30,
     "metadata": {},
     "output_type": "execute_result"
    }
   ],
   "source": [
    "Indicator['Decision'] = new5\n",
    "Indicator"
   ]
  },
  {
   "cell_type": "code",
   "execution_count": 31,
   "metadata": {},
   "outputs": [
    {
     "data": {
      "image/png": "[encoded data removed]",
      "text/plain": [
       "<Figure size 432x288 with 1 Axes>"
      ]
     },
     "metadata": {
      "needs_background": "light"
     },
     "output_type": "display_data"
    },
    {
     "data": {
      "text/plain": [
       "2    103\n",
       "3     32\n",
       "1     14\n",
       "Name: Decision, dtype: int64"
      ]
     },
     "execution_count": 31,
     "metadata": {},
     "output_type": "execute_result"
    }
   ],
   "source": [
    "sns.countplot(x = 'Decision', data=pd.DataFrame(Indicator), hue='Decision')#plots frequency of signals\n",
    "plt.savefig(\"brait_dec\")\n",
    "plt.show()\n",
    "Indicator['Decision'].value_counts()# counts frequency"
   ]
  },
  {
   "cell_type": "code",
   "execution_count": 32,
   "metadata": {},
   "outputs": [
    {
     "data": {
      "text/plain": [
       "2    69.127517\n",
       "3    21.476510\n",
       "1     9.395973\n",
       "Name: Decision, dtype: float64"
      ]
     },
     "execution_count": 32,
     "metadata": {},
     "output_type": "execute_result"
    }
   ],
   "source": [
    "Indicator['Decision'].value_counts(normalize=True) * 100 #expresses frequency as a percentage"
   ]
  },
  {
   "cell_type": "code",
   "execution_count": null,
   "metadata": {},
   "outputs": [],
   "source": []
  },
  {
   "cell_type": "code",
   "execution_count": null,
   "metadata": {},
   "outputs": [],
   "source": []
  },
  {
   "cell_type": "code",
   "execution_count": null,
   "metadata": {},
   "outputs": [],
   "source": []
  }
 ],
 "metadata": {
  "kernelspec": {
   "display_name": "Python 3",
   "language": "python",
   "name": "python3"
  },
  "language_info": {
   "codemirror_mode": {
    "name": "ipython",
    "version": 3
   },
   "file_extension": ".py",
   "mimetype": "text/x-python",
   "name": "python",
   "nbconvert_exporter": "python",
   "pygments_lexer": "ipython3",
   "version": "3.7.3"
  }
 },
 "nbformat": 4,
 "nbformat_minor": 5
}

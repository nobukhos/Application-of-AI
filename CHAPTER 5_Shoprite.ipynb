{
 "cells": [
  {
   "cell_type": "code",
   "execution_count": 1,
   "metadata": {},
   "outputs": [],
   "source": [
    "import numpy as np\n",
    "import pandas as pd\n",
    "import matplotlib.pyplot as plt\n",
    "import seaborn as sns"
   ]
  },
  {
   "cell_type": "code",
   "execution_count": 2,
   "metadata": {},
   "outputs": [],
   "source": [
    "# Read all data \n",
    "A = pd.read_html('Report16Jul2021121824.html')\n",
    "#A"
   ]
  },
  {
   "cell_type": "code",
   "execution_count": 3,
   "metadata": {},
   "outputs": [],
   "source": [
    "# choosing the data that we will use \n",
    "A1=A[11]\n",
    "#A1"
   ]
  },
  {
   "cell_type": "code",
   "execution_count": 4,
   "metadata": {},
   "outputs": [],
   "source": [
    "# changing the first row to be a header for all data\n",
    "new_header1 = A1.iloc[0] #grab the first row for the header\n",
    "A2 = A1[365:514] #take the data less the header row\n",
    "A2.columns = new_header1 #set the header row as the df header\n",
    "A2 = A2.reset_index(drop=True) #reset index\n",
    "#A2"
   ]
  },
  {
   "cell_type": "code",
   "execution_count": 5,
   "metadata": {},
   "outputs": [],
   "source": [
    "Indicator = A2.copy()#creat a copy of th dataframe\n",
    "#Indicator"
   ]
  },
  {
   "cell_type": "code",
   "execution_count": 6,
   "metadata": {},
   "outputs": [
    {
     "data": {
      "text/html": [
       "<div>\n",
       "<style scoped>\n",
       "    .dataframe tbody tr th:only-of-type {\n",
       "        vertical-align: middle;\n",
       "    }\n",
       "\n",
       "    .dataframe tbody tr th {\n",
       "        vertical-align: top;\n",
       "    }\n",
       "\n",
       "    .dataframe thead th {\n",
       "        text-align: right;\n",
       "    }\n",
       "</style>\n",
       "<table border=\"1\" class=\"dataframe\">\n",
       "  <thead>\n",
       "    <tr style=\"text-align: right;\">\n",
       "      <th></th>\n",
       "      <th>Date</th>\n",
       "      <th>High</th>\n",
       "      <th>Low</th>\n",
       "      <th>Open</th>\n",
       "      <th>Close</th>\n",
       "      <th>Volume</th>\n",
       "      <th>InterestYield</th>\n",
       "      <th>CapitalPaymentYield</th>\n",
       "      <th>TotalDistributionYield</th>\n",
       "      <th>EY</th>\n",
       "      <th>P/E</th>\n",
       "      <th>DY</th>\n",
       "    </tr>\n",
       "  </thead>\n",
       "  <tbody>\n",
       "    <tr>\n",
       "      <th>0</th>\n",
       "      <td>2020-01-31</td>\n",
       "      <td>11865</td>\n",
       "      <td>11691</td>\n",
       "      <td>11865</td>\n",
       "      <td>11706</td>\n",
       "      <td>2212021</td>\n",
       "      <td>0.00</td>\n",
       "      <td>0.00</td>\n",
       "      <td>2.18</td>\n",
       "      <td>6.67</td>\n",
       "      <td>14.99</td>\n",
       "      <td>2.18</td>\n",
       "    </tr>\n",
       "    <tr>\n",
       "      <th>1</th>\n",
       "      <td>2020-01-30</td>\n",
       "      <td>11885</td>\n",
       "      <td>11522</td>\n",
       "      <td>11700</td>\n",
       "      <td>11865</td>\n",
       "      <td>1034803</td>\n",
       "      <td>0.00</td>\n",
       "      <td>0.00</td>\n",
       "      <td>2.15</td>\n",
       "      <td>6.58</td>\n",
       "      <td>15.20</td>\n",
       "      <td>2.15</td>\n",
       "    </tr>\n",
       "    <tr>\n",
       "      <th>2</th>\n",
       "      <td>2020-01-29</td>\n",
       "      <td>11950</td>\n",
       "      <td>11705</td>\n",
       "      <td>11950</td>\n",
       "      <td>11718</td>\n",
       "      <td>1063704</td>\n",
       "      <td>0.00</td>\n",
       "      <td>0.00</td>\n",
       "      <td>2.18</td>\n",
       "      <td>6.66</td>\n",
       "      <td>15.01</td>\n",
       "      <td>2.18</td>\n",
       "    </tr>\n",
       "    <tr>\n",
       "      <th>3</th>\n",
       "      <td>2020-01-28</td>\n",
       "      <td>12125</td>\n",
       "      <td>11786</td>\n",
       "      <td>12125</td>\n",
       "      <td>11800</td>\n",
       "      <td>1571522</td>\n",
       "      <td>0.00</td>\n",
       "      <td>0.00</td>\n",
       "      <td>2.16</td>\n",
       "      <td>6.62</td>\n",
       "      <td>15.11</td>\n",
       "      <td>2.16</td>\n",
       "    </tr>\n",
       "    <tr>\n",
       "      <th>4</th>\n",
       "      <td>2020-01-27</td>\n",
       "      <td>12160</td>\n",
       "      <td>11940</td>\n",
       "      <td>12160</td>\n",
       "      <td>12054</td>\n",
       "      <td>1455674</td>\n",
       "      <td>0.00</td>\n",
       "      <td>0.00</td>\n",
       "      <td>2.12</td>\n",
       "      <td>6.48</td>\n",
       "      <td>15.44</td>\n",
       "      <td>2.12</td>\n",
       "    </tr>\n",
       "    <tr>\n",
       "      <th>...</th>\n",
       "      <td>...</td>\n",
       "      <td>...</td>\n",
       "      <td>...</td>\n",
       "      <td>...</td>\n",
       "      <td>...</td>\n",
       "      <td>...</td>\n",
       "      <td>...</td>\n",
       "      <td>...</td>\n",
       "      <td>...</td>\n",
       "      <td>...</td>\n",
       "      <td>...</td>\n",
       "      <td>...</td>\n",
       "    </tr>\n",
       "    <tr>\n",
       "      <th>144</th>\n",
       "      <td>2019-07-05</td>\n",
       "      <td>15738</td>\n",
       "      <td>15450</td>\n",
       "      <td>15670</td>\n",
       "      <td>15564</td>\n",
       "      <td>956014</td>\n",
       "      <td>0.00</td>\n",
       "      <td>0.00</td>\n",
       "      <td>2.24</td>\n",
       "      <td>5.21</td>\n",
       "      <td>19.20</td>\n",
       "      <td>2.24</td>\n",
       "    </tr>\n",
       "    <tr>\n",
       "      <th>145</th>\n",
       "      <td>2019-07-04</td>\n",
       "      <td>15948</td>\n",
       "      <td>15676</td>\n",
       "      <td>15750</td>\n",
       "      <td>15703</td>\n",
       "      <td>1309971</td>\n",
       "      <td>0.00</td>\n",
       "      <td>0.00</td>\n",
       "      <td>2.22</td>\n",
       "      <td>5.16</td>\n",
       "      <td>19.37</td>\n",
       "      <td>2.22</td>\n",
       "    </tr>\n",
       "    <tr>\n",
       "      <th>146</th>\n",
       "      <td>2019-07-03</td>\n",
       "      <td>15859</td>\n",
       "      <td>15593</td>\n",
       "      <td>15800</td>\n",
       "      <td>15676</td>\n",
       "      <td>994440</td>\n",
       "      <td>0.00</td>\n",
       "      <td>0.00</td>\n",
       "      <td>2.22</td>\n",
       "      <td>5.17</td>\n",
       "      <td>19.34</td>\n",
       "      <td>2.22</td>\n",
       "    </tr>\n",
       "    <tr>\n",
       "      <th>147</th>\n",
       "      <td>2019-07-02</td>\n",
       "      <td>16082</td>\n",
       "      <td>15537</td>\n",
       "      <td>16000</td>\n",
       "      <td>15796</td>\n",
       "      <td>1044466</td>\n",
       "      <td>0.00</td>\n",
       "      <td>0.00</td>\n",
       "      <td>2.20</td>\n",
       "      <td>5.13</td>\n",
       "      <td>19.48</td>\n",
       "      <td>2.20</td>\n",
       "    </tr>\n",
       "    <tr>\n",
       "      <th>148</th>\n",
       "      <td>2019-07-01</td>\n",
       "      <td>16265</td>\n",
       "      <td>15730</td>\n",
       "      <td>16081</td>\n",
       "      <td>15885</td>\n",
       "      <td>1281345</td>\n",
       "      <td>0.00</td>\n",
       "      <td>0.00</td>\n",
       "      <td>2.19</td>\n",
       "      <td>5.10</td>\n",
       "      <td>19.59</td>\n",
       "      <td>2.19</td>\n",
       "    </tr>\n",
       "  </tbody>\n",
       "</table>\n",
       "<p>149 rows × 12 columns</p>\n",
       "</div>"
      ],
      "text/plain": [
       "0         Date   High    Low   Open  Close   Volume InterestYield  \\\n",
       "0   2020-01-31  11865  11691  11865  11706  2212021          0.00   \n",
       "1   2020-01-30  11885  11522  11700  11865  1034803          0.00   \n",
       "2   2020-01-29  11950  11705  11950  11718  1063704          0.00   \n",
       "3   2020-01-28  12125  11786  12125  11800  1571522          0.00   \n",
       "4   2020-01-27  12160  11940  12160  12054  1455674          0.00   \n",
       "..         ...    ...    ...    ...    ...      ...           ...   \n",
       "144 2019-07-05  15738  15450  15670  15564   956014          0.00   \n",
       "145 2019-07-04  15948  15676  15750  15703  1309971          0.00   \n",
       "146 2019-07-03  15859  15593  15800  15676   994440          0.00   \n",
       "147 2019-07-02  16082  15537  16000  15796  1044466          0.00   \n",
       "148 2019-07-01  16265  15730  16081  15885  1281345          0.00   \n",
       "\n",
       "0   CapitalPaymentYield TotalDistributionYield    EY    P/E    DY  \n",
       "0                  0.00                   2.18  6.67  14.99  2.18  \n",
       "1                  0.00                   2.15  6.58  15.20  2.15  \n",
       "2                  0.00                   2.18  6.66  15.01  2.18  \n",
       "3                  0.00                   2.16  6.62  15.11  2.16  \n",
       "4                  0.00                   2.12  6.48  15.44  2.12  \n",
       "..                  ...                    ...   ...    ...   ...  \n",
       "144                0.00                   2.24  5.21  19.20  2.24  \n",
       "145                0.00                   2.22  5.16  19.37  2.22  \n",
       "146                0.00                   2.22  5.17  19.34  2.22  \n",
       "147                0.00                   2.20  5.13  19.48  2.20  \n",
       "148                0.00                   2.19  5.10  19.59  2.19  \n",
       "\n",
       "[149 rows x 12 columns]"
      ]
     },
     "execution_count": 6,
     "metadata": {},
     "output_type": "execute_result"
    }
   ],
   "source": [
    "Indicator['Date'] = pd.to_datetime(Indicator.Date)#changing date format\n",
    "Indicator"
   ]
  },
  {
   "cell_type": "code",
   "execution_count": 7,
   "metadata": {},
   "outputs": [],
   "source": [
    "#making the values to be float datatype\n",
    "Indicator['High']=Indicator.High.astype('float')\n",
    "Indicator['Close']=Indicator.Close.astype('float')\n",
    "Indicator['Low']=Indicator.Low.astype('float')\n",
    "Indicator['Open']=Indicator.Open.astype('float')"
   ]
  },
  {
   "cell_type": "code",
   "execution_count": 8,
   "metadata": {},
   "outputs": [],
   "source": [
    "#deleting columns not used for indicator calculation\n",
    "del Indicator['Volume'],Indicator['TotalDistributionYield'], Indicator['InterestYield'], Indicator['CapitalPaymentYield'], Indicator['EY'], Indicator['DY'], Indicator['P/E']\n",
    "#Indicator"
   ]
  },
  {
   "cell_type": "code",
   "execution_count": 9,
   "metadata": {},
   "outputs": [
    {
     "data": {
      "text/plain": [
       "count      149.000000\n",
       "mean     13255.785235\n",
       "std       1348.792441\n",
       "min      11025.000000\n",
       "25%      12245.000000\n",
       "50%      13077.000000\n",
       "75%      13799.000000\n",
       "max      16086.000000\n",
       "Name: Close, dtype: float64"
      ]
     },
     "execution_count": 9,
     "metadata": {},
     "output_type": "execute_result"
    }
   ],
   "source": [
    "Indicator[\"Close\"].describe() #descriptive statistics"
   ]
  },
  {
   "cell_type": "code",
   "execution_count": 10,
   "metadata": {},
   "outputs": [],
   "source": [
    "def RSI(value):\n",
    "    '''\n",
    "    The function calculates the relative strength index parameters \n",
    "    to be used to calculate 14_day rsi values\n",
    "    '''\n",
    "    up = value[value>0].mean()\n",
    "    down = -value[value<0].mean()\n",
    "    return (100 * up / (up + down))\n",
    "\n",
    "Indicator['Direction'] = (Indicator['Close'] - Indicator['Close'].shift(1)) #adding momentum\n",
    "Indicator['RSI_14D'] = Indicator['Direction'].rolling(center=False, window=14).apply(RSI) #14D RSI"
   ]
  },
  {
   "cell_type": "code",
   "execution_count": 11,
   "metadata": {},
   "outputs": [],
   "source": [
    "#Indicator['RSI_14D']"
   ]
  },
  {
   "cell_type": "code",
   "execution_count": 12,
   "metadata": {},
   "outputs": [],
   "source": [
    "l = []\n",
    "for i in range (len(Indicator)):\n",
    "    if Indicator['RSI_14D'][i] >= 28 and Indicator['RSI_14D'][i] <= 30:#values in this range satisfy a buy condition\n",
    "        l.append(1) #buy\n",
    "    elif Indicator['RSI_14D'][i] >= 31 and Indicator['RSI_14D'][i] <= 69:#values in this range satisfy a hold condition\n",
    "        l.append(2) #hold\n",
    "    elif Indicator['RSI_14D'][i] >= 70:#values in this range satisfy a sell condition\n",
    "        l.append(3)#sell\n",
    "    else:\n",
    "        l.append(2) #hold signal\n",
    "Indicator['RSI_sig'] = l"
   ]
  },
  {
   "cell_type": "code",
   "execution_count": 13,
   "metadata": {},
   "outputs": [
    {
     "data": {
      "image/png": "[encoded data removed]",
      "text/plain": [
       "<Figure size 432x288 with 1 Axes>"
      ]
     },
     "metadata": {
      "needs_background": "light"
     },
     "output_type": "display_data"
    },
    {
     "data": {
      "text/plain": [
       "2    141\n",
       "3      8\n",
       "Name: RSI_sig, dtype: int64"
      ]
     },
     "execution_count": 13,
     "metadata": {},
     "output_type": "execute_result"
    }
   ],
   "source": [
    "sns.countplot(x = 'RSI_sig', data=pd.DataFrame(Indicator), hue='RSI_sig')#plots frequency of signals\n",
    "plt.savefig(\"shop_rsicount\")\n",
    "plt.show()\n",
    "Indicator['RSI_sig'].value_counts() #counts according to signal code "
   ]
  },
  {
   "cell_type": "code",
   "execution_count": 14,
   "metadata": {},
   "outputs": [
    {
     "data": {
      "image/png": "[encoded data removed]",
      "text/plain": [
       "<Figure size 432x288 with 1 Axes>"
      ]
     },
     "metadata": {
      "needs_background": "light"
     },
     "output_type": "display_data"
    }
   ],
   "source": [
    "#graphical representation of RSI\n",
    "r = Indicator['RSI_14D']\n",
    "h = [0,160]\n",
    "b = [30,30]\n",
    "f = plt.plot(r, label = 'RSI_14D')\n",
    "e = [70,70]\n",
    "g = plt.plot(h,b,h,e) + f\n",
    "plt.ylabel('Threshold value')\n",
    "plt.xlabel('Days')\n",
    "plt.legend()\n",
    "plt.savefig(\"shop_rsi\")\n",
    "plt.show(g)"
   ]
  },
  {
   "cell_type": "code",
   "execution_count": 15,
   "metadata": {},
   "outputs": [],
   "source": [
    "n=21\n",
    "Indicator['STOK'] = ((Indicator['Close'] - Indicator['Low'].rolling(window=n,center=False).mean()) /\n",
    "                     (Indicator['High'].rolling(window=n, center=False).max() - \n",
    "                      Indicator['Low'].rolling(window=n, center=False).min())) * 100 #D% stochastic\n",
    "Indicator['STOD'] = Indicator['STOK'].rolling(window = 7, center=False).mean()  #K% stochastic "
   ]
  },
  {
   "cell_type": "code",
   "execution_count": 16,
   "metadata": {},
   "outputs": [],
   "source": [
    "m = []\n",
    "for i in range (len(Indicator)):\n",
    "    if Indicator['STOK'][i] >= 28 and Indicator['STOK'][i]<=30:#values in this range satisfy a buy condition\n",
    "        m.append(1) #buy\n",
    "    elif Indicator['STOK'][i] > 30 and Indicator['STOK'][i] < 70:#values in this range satisfy a hold condition\n",
    "        m.append(2) #sell    \n",
    "    elif Indicator['STOK'][i] >= 70:#values in this range satisfy a sell condition\n",
    "        m.append(3) #sell\n",
    "    else:\n",
    "        m.append(2) #hold\n",
    "Indicator['STO_sig'] = m"
   ]
  },
  {
   "cell_type": "code",
   "execution_count": 17,
   "metadata": {},
   "outputs": [
    {
     "data": {
      "image/png": "[encoded data removed]",
      "text/plain": [
       "<Figure size 432x288 with 1 Axes>"
      ]
     },
     "metadata": {
      "needs_background": "light"
     },
     "output_type": "display_data"
    },
    {
     "data": {
      "text/plain": [
       "2    146\n",
       "1      3\n",
       "Name: STO_sig, dtype: int64"
      ]
     },
     "execution_count": 17,
     "metadata": {},
     "output_type": "execute_result"
    }
   ],
   "source": [
    "sns.countplot(x = 'STO_sig', data=pd.DataFrame(Indicator), hue='STO_sig')#plots frequency of signals\n",
    "plt.savefig(\"shop_stocount\")\n",
    "plt.show()\n",
    "Indicator['STO_sig'].value_counts()#counts according to signal"
   ]
  },
  {
   "cell_type": "code",
   "execution_count": 18,
   "metadata": {},
   "outputs": [
    {
     "data": {
      "image/png": "[encoded data removed]",
      "text/plain": [
       "<Figure size 432x288 with 1 Axes>"
      ]
     },
     "metadata": {
      "needs_background": "light"
     },
     "output_type": "display_data"
    }
   ],
   "source": [
    "##graphical representation \n",
    "t = Indicator['STOD']\n",
    "j = Indicator['STOK']\n",
    "u = plt.plot(t, label = 'STOD')\n",
    "s = plt.plot(j, label = 'STOK')\n",
    "h = [0,160]\n",
    "b = [30,30]\n",
    "e = [70,70]\n",
    "g = plt.plot(h,e,h,b) + u + s\n",
    "plt.ylabel('Threshold value')\n",
    "plt.xlabel('Days')\n",
    "plt.legend()\n",
    "plt.savefig(\"shop_sto\")\n",
    "plt.show()"
   ]
  },
  {
   "cell_type": "code",
   "execution_count": 19,
   "metadata": {},
   "outputs": [],
   "source": [
    "Indicator['EMA_10'] = Indicator['Close'].ewm(span=10,adjust=False,min_periods=1).mean() #50day exponential ma\n",
    "Indicator['EMA_30'] = Indicator['Close'].ewm(span=20,adjust=False,min_periods=1).mean() #100day exponential ma\n",
    "Indicator['EMA_90'] = Indicator['Close'].ewm(span=90,adjust=False,min_periods=1).mean() #200day exponential ma"
   ]
  },
  {
   "cell_type": "code",
   "execution_count": 20,
   "metadata": {},
   "outputs": [],
   "source": [
    "# append 1 for a buy, 0 for a sell and 2 for hold and NaN\n",
    "n = []\n",
    "for i in range (len(Indicator)):\n",
    "    if Indicator['EMA_10'][i] < Indicator['EMA_30'][i] and Indicator['EMA_90'][i]:#values in this range satisfy a buy condition\n",
    "        n.append(1) #buy\n",
    "    elif Indicator['EMA_10'][i] > Indicator['EMA_30'][i] and Indicator['EMA_90'][i]:#values in this range satisfy a hold condition\n",
    "        n.append(3) #sell\n",
    "    elif Indicator['EMA_10'][i] == Indicator['EMA_30'][i] == Indicator['EMA_90'][i]:#values in this range satisfy a sell condition\n",
    "        n.append(2)  #hold      \n",
    "    else:\n",
    "        n.append(2)#hold\n",
    "Indicator['EMA_sig'] = n     "
   ]
  },
  {
   "cell_type": "code",
   "execution_count": 21,
   "metadata": {},
   "outputs": [
    {
     "data": {
      "image/png": "[encoded data removed]",
      "text/plain": [
       "<Figure size 432x288 with 1 Axes>"
      ]
     },
     "metadata": {
      "needs_background": "light"
     },
     "output_type": "display_data"
    },
    {
     "data": {
      "text/plain": [
       "3    101\n",
       "1     47\n",
       "2      1\n",
       "Name: EMA_sig, dtype: int64"
      ]
     },
     "execution_count": 21,
     "metadata": {},
     "output_type": "execute_result"
    }
   ],
   "source": [
    "sns.countplot(x = 'EMA_sig', data=pd.DataFrame(Indicator), hue='EMA_sig')#plots frequency of signals\n",
    "plt.savefig(\"shop_emacount\")\n",
    "plt.show()\n",
    "Indicator['EMA_sig'].value_counts()#counts according to signal"
   ]
  },
  {
   "cell_type": "code",
   "execution_count": 22,
   "metadata": {},
   "outputs": [
    {
     "data": {
      "image/png": "[encoded data removed]",
      "text/plain": [
       "<Figure size 432x288 with 1 Axes>"
      ]
     },
     "metadata": {
      "needs_background": "light"
     },
     "output_type": "display_data"
    }
   ],
   "source": [
    "# buy if 10EMA line cuts the other two EMA lines from above and moves below both the EMAs\n",
    "# sell if 10EMA line cuts the other two EMA lines from below and moves above both the EMAs\n",
    "a = Indicator['EMA_10'] #10 day exponential moving average\n",
    "b = Indicator['EMA_30'] #30 day exponential moving average\n",
    "c = Indicator['EMA_90'] #90 day exponential moving average\n",
    "d = plt.plot(a, label = 'EMA_10' ) + plt.plot(b, label = 'EMA_30') + plt.plot(c, label = 'EMA_90')\n",
    "plt.ylabel('Threshold value')\n",
    "plt.xlabel('Days')\n",
    "plt.legend()\n",
    "plt.savefig(\"shop_ema\")\n",
    "plt.show(d)"
   ]
  },
  {
   "cell_type": "code",
   "execution_count": 23,
   "metadata": {},
   "outputs": [],
   "source": [
    "Indicator['26_ema'] = Indicator['Close'].ewm(span=26,adjust=True,ignore_na=False).mean() #26day ema\n",
    "Indicator['12_ema'] = Indicator['Close'].ewm(span=12,adjust=True,ignore_na=False).mean() #12day ema\n",
    "Indicator['MACD'] = Indicator['12_ema'] - Indicator['26_ema'] #macd\n",
    "Indicator['9EMA_MACD'] = Indicator['MACD'].ewm(span=9,adjust=True,ignore_na=False).mean() #9daymacd_ema\n",
    "#Indicator"
   ]
  },
  {
   "cell_type": "code",
   "execution_count": 24,
   "metadata": {},
   "outputs": [],
   "source": [
    "f = []\n",
    "for i in range (len(Indicator)):\n",
    "    if Indicator['MACD'][i] > Indicator['9EMA_MACD'][i]:#values in this range satisfy a buy condition\n",
    "        f.append(1) #buy\n",
    "    elif Indicator['MACD'][i] < Indicator['9EMA_MACD'][i]:#values in this range satisfy a sell condition\n",
    "        f.append(3) #sell     \n",
    "    else:\n",
    "        f.append(2)#hold\n",
    "Indicator['MACD_sig'] = f "
   ]
  },
  {
   "cell_type": "code",
   "execution_count": 25,
   "metadata": {},
   "outputs": [
    {
     "data": {
      "image/png": "[encoded data removed]",
      "text/plain": [
       "<Figure size 432x288 with 1 Axes>"
      ]
     },
     "metadata": {
      "needs_background": "light"
     },
     "output_type": "display_data"
    },
    {
     "data": {
      "text/plain": [
       "3    74\n",
       "1    74\n",
       "2     1\n",
       "Name: MACD_sig, dtype: int64"
      ]
     },
     "execution_count": 25,
     "metadata": {},
     "output_type": "execute_result"
    }
   ],
   "source": [
    "sns.countplot(x = 'MACD_sig', data=pd.DataFrame(Indicator), hue='MACD_sig')#plots frequency of signals\n",
    "plt.savefig(\"shop_macdcount\")\n",
    "plt.show()\n",
    "Indicator['MACD_sig'].value_counts()#counts according to signal"
   ]
  },
  {
   "cell_type": "code",
   "execution_count": 26,
   "metadata": {},
   "outputs": [
    {
     "data": {
      "image/png": "[encoded data removed]",
      "text/plain": [
       "<Figure size 432x288 with 1 Axes>"
      ]
     },
     "metadata": {
      "needs_background": "light"
     },
     "output_type": "display_data"
    }
   ],
   "source": [
    "#graphical representation of MACD\n",
    "q = Indicator['9EMA_MACD']\n",
    "e = Indicator['MACD']\n",
    "z = [0,160]\n",
    "x = [0,0]\n",
    "r = plt.plot(z,x)+ plt.plot(e, label = 'MACD') +plt.plot(q, label = '9EMA_MACD')\n",
    "plt.ylabel('Threshold value')\n",
    "plt.xlabel('Days')\n",
    "plt.legend()\n",
    "plt.savefig(\"shop_macd\")\n",
    "plt.show(r)"
   ]
  },
  {
   "cell_type": "code",
   "execution_count": 27,
   "metadata": {},
   "outputs": [],
   "source": [
    "#Indicator"
   ]
  },
  {
   "cell_type": "code",
   "execution_count": 28,
   "metadata": {},
   "outputs": [],
   "source": [
    "#from dataframe to array for easy adding\n",
    "new1 = Indicator['RSI_sig'].to_numpy()\n",
    "new2 = Indicator['MACD_sig'].to_numpy()\n",
    "new3 = Indicator['EMA_sig'].to_numpy()\n",
    "new4 = Indicator['STO_sig'].to_numpy()"
   ]
  },
  {
   "cell_type": "code",
   "execution_count": 29,
   "metadata": {},
   "outputs": [],
   "source": [
    "b = []\n",
    "for i in range (len(new2)):\n",
    "    if new1[i] + new2[i] + new3[i] + new4[i] <= 6: #values in this range satisfy a buy decision\n",
    "        b.append(1)\n",
    "    elif new1[i] + new2[i] + new3[i] + new4[i] >=10:#values in this range satisfy a sell decision\n",
    "        b.append(3)\n",
    "    else:\n",
    "        b.append(2)#hold\n",
    "new5 = pd.Series(b)  \n",
    "#new5"
   ]
  },
  {
   "cell_type": "code",
   "execution_count": 30,
   "metadata": {
    "scrolled": true
   },
   "outputs": [
    {
     "data": {
      "text/html": [
       "<div>\n",
       "<style scoped>\n",
       "    .dataframe tbody tr th:only-of-type {\n",
       "        vertical-align: middle;\n",
       "    }\n",
       "\n",
       "    .dataframe tbody tr th {\n",
       "        vertical-align: top;\n",
       "    }\n",
       "\n",
       "    .dataframe thead th {\n",
       "        text-align: right;\n",
       "    }\n",
       "</style>\n",
       "<table border=\"1\" class=\"dataframe\">\n",
       "  <thead>\n",
       "    <tr style=\"text-align: right;\">\n",
       "      <th></th>\n",
       "      <th>Date</th>\n",
       "      <th>High</th>\n",
       "      <th>Low</th>\n",
       "      <th>Open</th>\n",
       "      <th>Close</th>\n",
       "      <th>Direction</th>\n",
       "      <th>RSI_14D</th>\n",
       "      <th>RSI_sig</th>\n",
       "      <th>STOK</th>\n",
       "      <th>STOD</th>\n",
       "      <th>...</th>\n",
       "      <th>EMA_10</th>\n",
       "      <th>EMA_30</th>\n",
       "      <th>EMA_90</th>\n",
       "      <th>EMA_sig</th>\n",
       "      <th>26_ema</th>\n",
       "      <th>12_ema</th>\n",
       "      <th>MACD</th>\n",
       "      <th>9EMA_MACD</th>\n",
       "      <th>MACD_sig</th>\n",
       "      <th>Decision</th>\n",
       "    </tr>\n",
       "  </thead>\n",
       "  <tbody>\n",
       "    <tr>\n",
       "      <th>0</th>\n",
       "      <td>2020-01-31</td>\n",
       "      <td>11865.0</td>\n",
       "      <td>11691.0</td>\n",
       "      <td>11865.0</td>\n",
       "      <td>11706.0</td>\n",
       "      <td>NaN</td>\n",
       "      <td>NaN</td>\n",
       "      <td>2</td>\n",
       "      <td>NaN</td>\n",
       "      <td>NaN</td>\n",
       "      <td>...</td>\n",
       "      <td>11706.000000</td>\n",
       "      <td>11706.000000</td>\n",
       "      <td>11706.000000</td>\n",
       "      <td>2</td>\n",
       "      <td>11706.000000</td>\n",
       "      <td>11706.000000</td>\n",
       "      <td>0.000000</td>\n",
       "      <td>0.000000</td>\n",
       "      <td>2</td>\n",
       "      <td>2</td>\n",
       "    </tr>\n",
       "    <tr>\n",
       "      <th>1</th>\n",
       "      <td>2020-01-30</td>\n",
       "      <td>11885.0</td>\n",
       "      <td>11522.0</td>\n",
       "      <td>11700.0</td>\n",
       "      <td>11865.0</td>\n",
       "      <td>159.0</td>\n",
       "      <td>NaN</td>\n",
       "      <td>2</td>\n",
       "      <td>NaN</td>\n",
       "      <td>NaN</td>\n",
       "      <td>...</td>\n",
       "      <td>11734.909091</td>\n",
       "      <td>11721.142857</td>\n",
       "      <td>11709.494505</td>\n",
       "      <td>3</td>\n",
       "      <td>11788.557692</td>\n",
       "      <td>11792.125000</td>\n",
       "      <td>3.567308</td>\n",
       "      <td>1.981838</td>\n",
       "      <td>1</td>\n",
       "      <td>2</td>\n",
       "    </tr>\n",
       "    <tr>\n",
       "      <th>2</th>\n",
       "      <td>2020-01-29</td>\n",
       "      <td>11950.0</td>\n",
       "      <td>11705.0</td>\n",
       "      <td>11950.0</td>\n",
       "      <td>11718.0</td>\n",
       "      <td>-147.0</td>\n",
       "      <td>NaN</td>\n",
       "      <td>2</td>\n",
       "      <td>NaN</td>\n",
       "      <td>NaN</td>\n",
       "      <td>...</td>\n",
       "      <td>11731.834711</td>\n",
       "      <td>11720.843537</td>\n",
       "      <td>11709.681439</td>\n",
       "      <td>3</td>\n",
       "      <td>11763.206999</td>\n",
       "      <td>11763.193995</td>\n",
       "      <td>-0.013003</td>\n",
       "      <td>1.164280</td>\n",
       "      <td>3</td>\n",
       "      <td>3</td>\n",
       "    </tr>\n",
       "    <tr>\n",
       "      <th>3</th>\n",
       "      <td>2020-01-28</td>\n",
       "      <td>12125.0</td>\n",
       "      <td>11786.0</td>\n",
       "      <td>12125.0</td>\n",
       "      <td>11800.0</td>\n",
       "      <td>82.0</td>\n",
       "      <td>NaN</td>\n",
       "      <td>2</td>\n",
       "      <td>NaN</td>\n",
       "      <td>NaN</td>\n",
       "      <td>...</td>\n",
       "      <td>11744.228400</td>\n",
       "      <td>11728.382248</td>\n",
       "      <td>11711.666463</td>\n",
       "      <td>3</td>\n",
       "      <td>11773.492714</td>\n",
       "      <td>11774.812213</td>\n",
       "      <td>1.319499</td>\n",
       "      <td>1.216861</td>\n",
       "      <td>1</td>\n",
       "      <td>2</td>\n",
       "    </tr>\n",
       "    <tr>\n",
       "      <th>4</th>\n",
       "      <td>2020-01-27</td>\n",
       "      <td>12160.0</td>\n",
       "      <td>11940.0</td>\n",
       "      <td>12160.0</td>\n",
       "      <td>12054.0</td>\n",
       "      <td>254.0</td>\n",
       "      <td>NaN</td>\n",
       "      <td>2</td>\n",
       "      <td>NaN</td>\n",
       "      <td>NaN</td>\n",
       "      <td>...</td>\n",
       "      <td>11800.550509</td>\n",
       "      <td>11759.393463</td>\n",
       "      <td>11719.190277</td>\n",
       "      <td>3</td>\n",
       "      <td>11838.543511</td>\n",
       "      <td>11850.666537</td>\n",
       "      <td>12.123026</td>\n",
       "      <td>4.461198</td>\n",
       "      <td>1</td>\n",
       "      <td>2</td>\n",
       "    </tr>\n",
       "    <tr>\n",
       "      <th>...</th>\n",
       "      <td>...</td>\n",
       "      <td>...</td>\n",
       "      <td>...</td>\n",
       "      <td>...</td>\n",
       "      <td>...</td>\n",
       "      <td>...</td>\n",
       "      <td>...</td>\n",
       "      <td>...</td>\n",
       "      <td>...</td>\n",
       "      <td>...</td>\n",
       "      <td>...</td>\n",
       "      <td>...</td>\n",
       "      <td>...</td>\n",
       "      <td>...</td>\n",
       "      <td>...</td>\n",
       "      <td>...</td>\n",
       "      <td>...</td>\n",
       "      <td>...</td>\n",
       "      <td>...</td>\n",
       "      <td>...</td>\n",
       "      <td>...</td>\n",
       "    </tr>\n",
       "    <tr>\n",
       "      <th>144</th>\n",
       "      <td>2019-07-05</td>\n",
       "      <td>15738.0</td>\n",
       "      <td>15450.0</td>\n",
       "      <td>15670.0</td>\n",
       "      <td>15564.0</td>\n",
       "      <td>164.0</td>\n",
       "      <td>61.922714</td>\n",
       "      <td>2</td>\n",
       "      <td>11.123861</td>\n",
       "      <td>13.577563</td>\n",
       "      <td>...</td>\n",
       "      <td>15573.777689</td>\n",
       "      <td>15368.697495</td>\n",
       "      <td>13861.346169</td>\n",
       "      <td>3</td>\n",
       "      <td>15170.272716</td>\n",
       "      <td>15558.016492</td>\n",
       "      <td>387.743776</td>\n",
       "      <td>533.259410</td>\n",
       "      <td>3</td>\n",
       "      <td>3</td>\n",
       "    </tr>\n",
       "    <tr>\n",
       "      <th>145</th>\n",
       "      <td>2019-07-04</td>\n",
       "      <td>15948.0</td>\n",
       "      <td>15676.0</td>\n",
       "      <td>15750.0</td>\n",
       "      <td>15703.0</td>\n",
       "      <td>139.0</td>\n",
       "      <td>55.571848</td>\n",
       "      <td>2</td>\n",
       "      <td>16.227874</td>\n",
       "      <td>11.977160</td>\n",
       "      <td>...</td>\n",
       "      <td>15597.272654</td>\n",
       "      <td>15400.535829</td>\n",
       "      <td>13901.822077</td>\n",
       "      <td>3</td>\n",
       "      <td>15209.734517</td>\n",
       "      <td>15580.321647</td>\n",
       "      <td>370.587131</td>\n",
       "      <td>500.724954</td>\n",
       "      <td>3</td>\n",
       "      <td>3</td>\n",
       "    </tr>\n",
       "    <tr>\n",
       "      <th>146</th>\n",
       "      <td>2019-07-03</td>\n",
       "      <td>15859.0</td>\n",
       "      <td>15593.0</td>\n",
       "      <td>15800.0</td>\n",
       "      <td>15676.0</td>\n",
       "      <td>-27.0</td>\n",
       "      <td>55.522317</td>\n",
       "      <td>2</td>\n",
       "      <td>13.556873</td>\n",
       "      <td>10.115443</td>\n",
       "      <td>...</td>\n",
       "      <td>15611.586717</td>\n",
       "      <td>15426.770512</td>\n",
       "      <td>13940.814998</td>\n",
       "      <td>3</td>\n",
       "      <td>15244.273122</td>\n",
       "      <td>15595.041394</td>\n",
       "      <td>350.768271</td>\n",
       "      <td>470.733618</td>\n",
       "      <td>3</td>\n",
       "      <td>3</td>\n",
       "    </tr>\n",
       "    <tr>\n",
       "      <th>147</th>\n",
       "      <td>2019-07-02</td>\n",
       "      <td>16082.0</td>\n",
       "      <td>15537.0</td>\n",
       "      <td>16000.0</td>\n",
       "      <td>15796.0</td>\n",
       "      <td>120.0</td>\n",
       "      <td>50.578381</td>\n",
       "      <td>2</td>\n",
       "      <td>18.197658</td>\n",
       "      <td>9.939380</td>\n",
       "      <td>...</td>\n",
       "      <td>15645.116405</td>\n",
       "      <td>15461.935225</td>\n",
       "      <td>13981.588295</td>\n",
       "      <td>3</td>\n",
       "      <td>15285.142242</td>\n",
       "      <td>15625.958102</td>\n",
       "      <td>340.815860</td>\n",
       "      <td>444.750066</td>\n",
       "      <td>3</td>\n",
       "      <td>3</td>\n",
       "    </tr>\n",
       "    <tr>\n",
       "      <th>148</th>\n",
       "      <td>2019-07-01</td>\n",
       "      <td>16265.0</td>\n",
       "      <td>15730.0</td>\n",
       "      <td>16081.0</td>\n",
       "      <td>15885.0</td>\n",
       "      <td>89.0</td>\n",
       "      <td>48.552754</td>\n",
       "      <td>2</td>\n",
       "      <td>25.936779</td>\n",
       "      <td>12.417351</td>\n",
       "      <td>...</td>\n",
       "      <td>15688.731604</td>\n",
       "      <td>15502.227108</td>\n",
       "      <td>14023.421519</td>\n",
       "      <td>3</td>\n",
       "      <td>15329.576615</td>\n",
       "      <td>15665.810702</td>\n",
       "      <td>336.234087</td>\n",
       "      <td>423.046870</td>\n",
       "      <td>3</td>\n",
       "      <td>3</td>\n",
       "    </tr>\n",
       "  </tbody>\n",
       "</table>\n",
       "<p>149 rows × 21 columns</p>\n",
       "</div>"
      ],
      "text/plain": [
       "0         Date     High      Low     Open    Close  Direction    RSI_14D  \\\n",
       "0   2020-01-31  11865.0  11691.0  11865.0  11706.0        NaN        NaN   \n",
       "1   2020-01-30  11885.0  11522.0  11700.0  11865.0      159.0        NaN   \n",
       "2   2020-01-29  11950.0  11705.0  11950.0  11718.0     -147.0        NaN   \n",
       "3   2020-01-28  12125.0  11786.0  12125.0  11800.0       82.0        NaN   \n",
       "4   2020-01-27  12160.0  11940.0  12160.0  12054.0      254.0        NaN   \n",
       "..         ...      ...      ...      ...      ...        ...        ...   \n",
       "144 2019-07-05  15738.0  15450.0  15670.0  15564.0      164.0  61.922714   \n",
       "145 2019-07-04  15948.0  15676.0  15750.0  15703.0      139.0  55.571848   \n",
       "146 2019-07-03  15859.0  15593.0  15800.0  15676.0      -27.0  55.522317   \n",
       "147 2019-07-02  16082.0  15537.0  16000.0  15796.0      120.0  50.578381   \n",
       "148 2019-07-01  16265.0  15730.0  16081.0  15885.0       89.0  48.552754   \n",
       "\n",
       "0    RSI_sig       STOK       STOD  ...        EMA_10        EMA_30  \\\n",
       "0          2        NaN        NaN  ...  11706.000000  11706.000000   \n",
       "1          2        NaN        NaN  ...  11734.909091  11721.142857   \n",
       "2          2        NaN        NaN  ...  11731.834711  11720.843537   \n",
       "3          2        NaN        NaN  ...  11744.228400  11728.382248   \n",
       "4          2        NaN        NaN  ...  11800.550509  11759.393463   \n",
       "..       ...        ...        ...  ...           ...           ...   \n",
       "144        2  11.123861  13.577563  ...  15573.777689  15368.697495   \n",
       "145        2  16.227874  11.977160  ...  15597.272654  15400.535829   \n",
       "146        2  13.556873  10.115443  ...  15611.586717  15426.770512   \n",
       "147        2  18.197658   9.939380  ...  15645.116405  15461.935225   \n",
       "148        2  25.936779  12.417351  ...  15688.731604  15502.227108   \n",
       "\n",
       "0          EMA_90  EMA_sig        26_ema        12_ema        MACD  \\\n",
       "0    11706.000000        2  11706.000000  11706.000000    0.000000   \n",
       "1    11709.494505        3  11788.557692  11792.125000    3.567308   \n",
       "2    11709.681439        3  11763.206999  11763.193995   -0.013003   \n",
       "3    11711.666463        3  11773.492714  11774.812213    1.319499   \n",
       "4    11719.190277        3  11838.543511  11850.666537   12.123026   \n",
       "..            ...      ...           ...           ...         ...   \n",
       "144  13861.346169        3  15170.272716  15558.016492  387.743776   \n",
       "145  13901.822077        3  15209.734517  15580.321647  370.587131   \n",
       "146  13940.814998        3  15244.273122  15595.041394  350.768271   \n",
       "147  13981.588295        3  15285.142242  15625.958102  340.815860   \n",
       "148  14023.421519        3  15329.576615  15665.810702  336.234087   \n",
       "\n",
       "0     9EMA_MACD  MACD_sig  Decision  \n",
       "0      0.000000         2         2  \n",
       "1      1.981838         1         2  \n",
       "2      1.164280         3         3  \n",
       "3      1.216861         1         2  \n",
       "4      4.461198         1         2  \n",
       "..          ...       ...       ...  \n",
       "144  533.259410         3         3  \n",
       "145  500.724954         3         3  \n",
       "146  470.733618         3         3  \n",
       "147  444.750066         3         3  \n",
       "148  423.046870         3         3  \n",
       "\n",
       "[149 rows x 21 columns]"
      ]
     },
     "execution_count": 30,
     "metadata": {},
     "output_type": "execute_result"
    }
   ],
   "source": [
    "Indicator['Decision'] = new5\n",
    "Indicator"
   ]
  },
  {
   "cell_type": "code",
   "execution_count": 31,
   "metadata": {},
   "outputs": [
    {
     "data": {
      "image/png": "[encoded data removed]",
      "text/plain": [
       "<Figure size 432x288 with 1 Axes>"
      ]
     },
     "metadata": {
      "needs_background": "light"
     },
     "output_type": "display_data"
    },
    {
     "data": {
      "text/plain": [
       "2    101\n",
       "3     37\n",
       "1     11\n",
       "Name: Decision, dtype: int64"
      ]
     },
     "execution_count": 31,
     "metadata": {},
     "output_type": "execute_result"
    }
   ],
   "source": [
    "sns.countplot(x = 'Decision', data=pd.DataFrame(Indicator), hue='Decision')#plots frequency of signals\n",
    "plt.savefig(\"shop_dec\")\n",
    "plt.show()\n",
    "Indicator['Decision'].value_counts()#counts according to signal"
   ]
  },
  {
   "cell_type": "code",
   "execution_count": 32,
   "metadata": {},
   "outputs": [
    {
     "data": {
      "text/plain": [
       "2    67.785235\n",
       "3    24.832215\n",
       "1     7.382550\n",
       "Name: Decision, dtype: float64"
      ]
     },
     "execution_count": 32,
     "metadata": {},
     "output_type": "execute_result"
    }
   ],
   "source": [
    "Indicator['Decision'].value_counts(normalize=True) * 100 #calculates frequency of signals as a signal"
   ]
  },
  {
   "cell_type": "code",
   "execution_count": null,
   "metadata": {},
   "outputs": [],
   "source": []
  },
  {
   "cell_type": "code",
   "execution_count": null,
   "metadata": {},
   "outputs": [],
   "source": []
  },
  {
   "cell_type": "code",
   "execution_count": null,
   "metadata": {},
   "outputs": [],
   "source": []
  },
  {
   "cell_type": "code",
   "execution_count": null,
   "metadata": {},
   "outputs": [],
   "source": []
  }
 ],
 "metadata": {
  "kernelspec": {
   "display_name": "Python 3",
   "language": "python",
   "name": "python3"
  },
  "language_info": {
   "codemirror_mode": {
    "name": "ipython",
    "version": 3
   },
   "file_extension": ".py",
   "mimetype": "text/x-python",
   "name": "python",
   "nbconvert_exporter": "python",
   "pygments_lexer": "ipython3",
   "version": "3.7.3"
  }
 },
 "nbformat": 4,
 "nbformat_minor": 5
}

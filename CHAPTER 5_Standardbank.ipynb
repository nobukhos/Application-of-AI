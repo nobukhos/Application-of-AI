{
 "cells": [
  {
   "cell_type": "code",
   "execution_count": 1,
   "metadata": {},
   "outputs": [],
   "source": [
    "import numpy as np\n",
    "import pandas as pd\n",
    "import matplotlib.pyplot as plt\n",
    "import seaborn as sns"
   ]
  },
  {
   "cell_type": "code",
   "execution_count": 2,
   "metadata": {},
   "outputs": [],
   "source": [
    "# Read all data \n",
    "A = pd.read_html('Report16Jul2021120356.html')\n",
    "#A"
   ]
  },
  {
   "cell_type": "code",
   "execution_count": 3,
   "metadata": {},
   "outputs": [],
   "source": [
    "# choosing the data that we will use \n",
    "A1=A[11]\n",
    "#A1"
   ]
  },
  {
   "cell_type": "code",
   "execution_count": 4,
   "metadata": {},
   "outputs": [],
   "source": [
    "# changing the first row to be a header for all data\n",
    "new_header1 = A1.iloc[0] #grab the first row for the header\n",
    "A2 = A1[365:514] #take the data less the header row\n",
    "A2.columns = new_header1 #set the header row as the df header\n",
    "A2 = A2.reset_index(drop=True)#reset indexes\n",
    "#A2"
   ]
  },
  {
   "cell_type": "code",
   "execution_count": 5,
   "metadata": {},
   "outputs": [
    {
     "data": {
      "text/html": [
       "<div>\n",
       "<style scoped>\n",
       "    .dataframe tbody tr th:only-of-type {\n",
       "        vertical-align: middle;\n",
       "    }\n",
       "\n",
       "    .dataframe tbody tr th {\n",
       "        vertical-align: top;\n",
       "    }\n",
       "\n",
       "    .dataframe thead th {\n",
       "        text-align: right;\n",
       "    }\n",
       "</style>\n",
       "<table border=\"1\" class=\"dataframe\">\n",
       "  <thead>\n",
       "    <tr style=\"text-align: right;\">\n",
       "      <th></th>\n",
       "      <th>Date</th>\n",
       "      <th>High</th>\n",
       "      <th>Low</th>\n",
       "      <th>Open</th>\n",
       "      <th>Close</th>\n",
       "      <th>Volume</th>\n",
       "      <th>InterestYield</th>\n",
       "      <th>CapitalPaymentYield</th>\n",
       "      <th>TotalDistributionYield</th>\n",
       "      <th>EY</th>\n",
       "      <th>P/E</th>\n",
       "      <th>DY</th>\n",
       "    </tr>\n",
       "  </thead>\n",
       "  <tbody>\n",
       "    <tr>\n",
       "      <th>0</th>\n",
       "      <td>31 Jan 2020</td>\n",
       "      <td>16198</td>\n",
       "      <td>15748</td>\n",
       "      <td>16115</td>\n",
       "      <td>15748</td>\n",
       "      <td>4475345</td>\n",
       "      <td>0.00</td>\n",
       "      <td>0.00</td>\n",
       "      <td>5.05</td>\n",
       "      <td>11.38</td>\n",
       "      <td>8.79</td>\n",
       "      <td>5.05</td>\n",
       "    </tr>\n",
       "    <tr>\n",
       "      <th>1</th>\n",
       "      <td>30 Jan 2020</td>\n",
       "      <td>16273</td>\n",
       "      <td>15802</td>\n",
       "      <td>16120</td>\n",
       "      <td>16162</td>\n",
       "      <td>2214622</td>\n",
       "      <td>0.00</td>\n",
       "      <td>0.00</td>\n",
       "      <td>4.92</td>\n",
       "      <td>11.09</td>\n",
       "      <td>9.02</td>\n",
       "      <td>4.92</td>\n",
       "    </tr>\n",
       "    <tr>\n",
       "      <th>2</th>\n",
       "      <td>29 Jan 2020</td>\n",
       "      <td>16204</td>\n",
       "      <td>16007</td>\n",
       "      <td>16015</td>\n",
       "      <td>16121</td>\n",
       "      <td>3108494</td>\n",
       "      <td>0.00</td>\n",
       "      <td>0.00</td>\n",
       "      <td>4.93</td>\n",
       "      <td>11.12</td>\n",
       "      <td>9.00</td>\n",
       "      <td>4.93</td>\n",
       "    </tr>\n",
       "    <tr>\n",
       "      <th>3</th>\n",
       "      <td>28 Jan 2020</td>\n",
       "      <td>16137</td>\n",
       "      <td>15803</td>\n",
       "      <td>16137</td>\n",
       "      <td>15990</td>\n",
       "      <td>1707391</td>\n",
       "      <td>0.00</td>\n",
       "      <td>0.00</td>\n",
       "      <td>4.97</td>\n",
       "      <td>11.21</td>\n",
       "      <td>8.92</td>\n",
       "      <td>4.97</td>\n",
       "    </tr>\n",
       "    <tr>\n",
       "      <th>4</th>\n",
       "      <td>27 Jan 2020</td>\n",
       "      <td>16300</td>\n",
       "      <td>15809</td>\n",
       "      <td>16300</td>\n",
       "      <td>15965</td>\n",
       "      <td>2018378</td>\n",
       "      <td>0.00</td>\n",
       "      <td>0.00</td>\n",
       "      <td>4.98</td>\n",
       "      <td>11.22</td>\n",
       "      <td>8.91</td>\n",
       "      <td>4.98</td>\n",
       "    </tr>\n",
       "    <tr>\n",
       "      <th>...</th>\n",
       "      <td>...</td>\n",
       "      <td>...</td>\n",
       "      <td>...</td>\n",
       "      <td>...</td>\n",
       "      <td>...</td>\n",
       "      <td>...</td>\n",
       "      <td>...</td>\n",
       "      <td>...</td>\n",
       "      <td>...</td>\n",
       "      <td>...</td>\n",
       "      <td>...</td>\n",
       "      <td>...</td>\n",
       "    </tr>\n",
       "    <tr>\n",
       "      <th>144</th>\n",
       "      <td>05 Jul 2019</td>\n",
       "      <td>19235</td>\n",
       "      <td>18754</td>\n",
       "      <td>19100</td>\n",
       "      <td>18896</td>\n",
       "      <td>2910485</td>\n",
       "      <td>0.00</td>\n",
       "      <td>0.00</td>\n",
       "      <td>4.11</td>\n",
       "      <td>9.25</td>\n",
       "      <td>10.81</td>\n",
       "      <td>4.11</td>\n",
       "    </tr>\n",
       "    <tr>\n",
       "      <th>145</th>\n",
       "      <td>04 Jul 2019</td>\n",
       "      <td>19460</td>\n",
       "      <td>19139</td>\n",
       "      <td>19373</td>\n",
       "      <td>19154</td>\n",
       "      <td>1577098</td>\n",
       "      <td>0.00</td>\n",
       "      <td>0.00</td>\n",
       "      <td>4.05</td>\n",
       "      <td>9.13</td>\n",
       "      <td>10.96</td>\n",
       "      <td>4.05</td>\n",
       "    </tr>\n",
       "    <tr>\n",
       "      <th>146</th>\n",
       "      <td>03 Jul 2019</td>\n",
       "      <td>19456</td>\n",
       "      <td>19118</td>\n",
       "      <td>19450</td>\n",
       "      <td>19263</td>\n",
       "      <td>2216618</td>\n",
       "      <td>0.00</td>\n",
       "      <td>0.00</td>\n",
       "      <td>4.03</td>\n",
       "      <td>9.08</td>\n",
       "      <td>11.02</td>\n",
       "      <td>4.03</td>\n",
       "    </tr>\n",
       "    <tr>\n",
       "      <th>147</th>\n",
       "      <td>02 Jul 2019</td>\n",
       "      <td>19887</td>\n",
       "      <td>19110</td>\n",
       "      <td>19887</td>\n",
       "      <td>19464</td>\n",
       "      <td>2640878</td>\n",
       "      <td>0.00</td>\n",
       "      <td>0.00</td>\n",
       "      <td>3.99</td>\n",
       "      <td>8.98</td>\n",
       "      <td>11.13</td>\n",
       "      <td>3.99</td>\n",
       "    </tr>\n",
       "    <tr>\n",
       "      <th>148</th>\n",
       "      <td>01 Jul 2019</td>\n",
       "      <td>20158</td>\n",
       "      <td>19674</td>\n",
       "      <td>19994</td>\n",
       "      <td>19674</td>\n",
       "      <td>2648194</td>\n",
       "      <td>0.00</td>\n",
       "      <td>0.00</td>\n",
       "      <td>3.94</td>\n",
       "      <td>8.89</td>\n",
       "      <td>11.25</td>\n",
       "      <td>3.94</td>\n",
       "    </tr>\n",
       "  </tbody>\n",
       "</table>\n",
       "<p>149 rows × 12 columns</p>\n",
       "</div>"
      ],
      "text/plain": [
       "0           Date   High    Low   Open  Close   Volume InterestYield  \\\n",
       "0    31 Jan 2020  16198  15748  16115  15748  4475345          0.00   \n",
       "1    30 Jan 2020  16273  15802  16120  16162  2214622          0.00   \n",
       "2    29 Jan 2020  16204  16007  16015  16121  3108494          0.00   \n",
       "3    28 Jan 2020  16137  15803  16137  15990  1707391          0.00   \n",
       "4    27 Jan 2020  16300  15809  16300  15965  2018378          0.00   \n",
       "..           ...    ...    ...    ...    ...      ...           ...   \n",
       "144  05 Jul 2019  19235  18754  19100  18896  2910485          0.00   \n",
       "145  04 Jul 2019  19460  19139  19373  19154  1577098          0.00   \n",
       "146  03 Jul 2019  19456  19118  19450  19263  2216618          0.00   \n",
       "147  02 Jul 2019  19887  19110  19887  19464  2640878          0.00   \n",
       "148  01 Jul 2019  20158  19674  19994  19674  2648194          0.00   \n",
       "\n",
       "0   CapitalPaymentYield TotalDistributionYield     EY    P/E    DY  \n",
       "0                  0.00                   5.05  11.38   8.79  5.05  \n",
       "1                  0.00                   4.92  11.09   9.02  4.92  \n",
       "2                  0.00                   4.93  11.12   9.00  4.93  \n",
       "3                  0.00                   4.97  11.21   8.92  4.97  \n",
       "4                  0.00                   4.98  11.22   8.91  4.98  \n",
       "..                  ...                    ...    ...    ...   ...  \n",
       "144                0.00                   4.11   9.25  10.81  4.11  \n",
       "145                0.00                   4.05   9.13  10.96  4.05  \n",
       "146                0.00                   4.03   9.08  11.02  4.03  \n",
       "147                0.00                   3.99   8.98  11.13  3.99  \n",
       "148                0.00                   3.94   8.89  11.25  3.94  \n",
       "\n",
       "[149 rows x 12 columns]"
      ]
     },
     "execution_count": 5,
     "metadata": {},
     "output_type": "execute_result"
    }
   ],
   "source": [
    "Indicator = A2.copy()#create a copy of the data\n",
    "Indicator"
   ]
  },
  {
   "cell_type": "code",
   "execution_count": 6,
   "metadata": {},
   "outputs": [],
   "source": [
    "Indicator['Date'] = pd.to_datetime(Indicator.Date)#changing date format\n",
    "#Indicator"
   ]
  },
  {
   "cell_type": "code",
   "execution_count": 7,
   "metadata": {},
   "outputs": [],
   "source": [
    "#making values to be type float\n",
    "Indicator['High']=Indicator.High.astype('float')\n",
    "Indicator['Close']=Indicator.Close.astype('float')\n",
    "Indicator['Low']=Indicator.Low.astype('float')\n",
    "Indicator['Open']=Indicator.Open.astype('float')"
   ]
  },
  {
   "cell_type": "code",
   "execution_count": 8,
   "metadata": {},
   "outputs": [],
   "source": [
    "#deleting all other columns not used\n",
    "del Indicator['Volume'],Indicator['TotalDistributionYield'], Indicator['InterestYield'], Indicator['CapitalPaymentYield'], Indicator['EY'], Indicator['DY'], Indicator['P/E']\n",
    "#Indicator"
   ]
  },
  {
   "cell_type": "code",
   "execution_count": 9,
   "metadata": {},
   "outputs": [
    {
     "data": {
      "text/plain": [
       "count      149.000000\n",
       "mean     17505.221477\n",
       "std        892.525409\n",
       "min      15748.000000\n",
       "25%      16868.000000\n",
       "50%      17450.000000\n",
       "75%      18077.000000\n",
       "max      19674.000000\n",
       "Name: Close, dtype: float64"
      ]
     },
     "execution_count": 9,
     "metadata": {},
     "output_type": "execute_result"
    }
   ],
   "source": [
    "Indicator[\"Close\"].describe() #descriptive statistics"
   ]
  },
  {
   "cell_type": "code",
   "execution_count": 10,
   "metadata": {},
   "outputs": [],
   "source": [
    "def RSI(value):\n",
    "    '''\n",
    "    The function calculates the relative strength index parameters \n",
    "    to be used to calculate 14_day rsi values\n",
    "    '''\n",
    "    up = value[value>0].mean()\n",
    "    down = -value[value<0].mean()\n",
    "    return (100 * up / (up + down))\n",
    "\n",
    "Indicator['Direction'] = (Indicator['Close'] - Indicator['Close'].shift(1)) #adding momentum\n",
    "Indicator['RSI_14D'] = Indicator['Direction'].rolling(center=False, window=14).apply(RSI) #14D RSI"
   ]
  },
  {
   "cell_type": "code",
   "execution_count": 11,
   "metadata": {},
   "outputs": [],
   "source": [
    "#Indicator['RSI_14D']"
   ]
  },
  {
   "cell_type": "code",
   "execution_count": 12,
   "metadata": {},
   "outputs": [],
   "source": [
    "l = []\n",
    "for i in range (len(Indicator)):\n",
    "    if Indicator['RSI_14D'][i] >= 28 and Indicator['RSI_14D'][i] <= 30: #values in this range satisfy a buy conditionsold\n",
    "        l.append(1) #buy\n",
    "    elif Indicator['RSI_14D'][i] >= 31 and Indicator['RSI_14D'][i] <= 69:#values in this range satisfy a hold condition\n",
    "        l.append(2) #hold\n",
    "    elif Indicator['RSI_14D'][i] >= 70:#values in this range satisfy a sell condition\n",
    "        l.append(3)#sell\n",
    "    else:\n",
    "        l.append(2) #hold signal\n",
    "Indicator['RSI_sig'] = l"
   ]
  },
  {
   "cell_type": "code",
   "execution_count": 13,
   "metadata": {},
   "outputs": [
    {
     "data": {
      "image/png": "[encoded data removed]",
      "text/plain": [
       "<Figure size 432x288 with 1 Axes>"
      ]
     },
     "metadata": {
      "needs_background": "light"
     },
     "output_type": "display_data"
    },
    {
     "data": {
      "text/plain": [
       "2    145\n",
       "3      3\n",
       "1      1\n",
       "Name: RSI_sig, dtype: int64"
      ]
     },
     "execution_count": 13,
     "metadata": {},
     "output_type": "execute_result"
    }
   ],
   "source": [
    "sns.countplot(x = 'RSI_sig', data=pd.DataFrame(Indicator), hue='RSI_sig')#plots frequency of signals\n",
    "plt.savefig(\"stan_rsicount\")\n",
    "plt.show()\n",
    "Indicator['RSI_sig'].value_counts() #counts according to signal code "
   ]
  },
  {
   "cell_type": "code",
   "execution_count": 14,
   "metadata": {},
   "outputs": [
    {
     "data": {
      "image/png": "[encoded data removed]",
      "text/plain": [
       "<Figure size 432x288 with 1 Axes>"
      ]
     },
     "metadata": {
      "needs_background": "light"
     },
     "output_type": "display_data"
    }
   ],
   "source": [
    "#graphical presentation of the indicator\n",
    "r = Indicator['RSI_14D']\n",
    "h = [0,160]\n",
    "b = [30,30]\n",
    "f = plt.plot(r, label = 'RSI_14D')\n",
    "e = [70,70]\n",
    "g = plt.plot(h,b,h,e) + f\n",
    "plt.ylabel('Threshold value')\n",
    "plt.xlabel('Days')\n",
    "plt.legend()\n",
    "plt.savefig(\"stan_rsi\")\n",
    "plt.show(g)"
   ]
  },
  {
   "cell_type": "code",
   "execution_count": 15,
   "metadata": {},
   "outputs": [],
   "source": [
    "n=21\n",
    "Indicator['STOK'] = ((Indicator['Close'] - Indicator['Low'].rolling(window=n,center=False).mean()) /\n",
    "                     (Indicator['High'].rolling(window=n, center=False).max() - \n",
    "                      Indicator['Low'].rolling(window=n, center=False).min())) * 100 #D% stochastic\n",
    "Indicator['STOD'] = Indicator['STOK'].rolling(window = 7, center=False).mean()  #K% stochastic "
   ]
  },
  {
   "cell_type": "code",
   "execution_count": 16,
   "metadata": {},
   "outputs": [],
   "source": [
    "m = []\n",
    "for i in range (len(Indicator)):\n",
    "    if Indicator['STOK'][i] >= 28 and Indicator['STOK'][i]<=30:#values in this range satisfy a buy condition\n",
    "        m.append(1) #buy\n",
    "    elif Indicator['STOK'][i] > 30 and Indicator['STOK'][i] <= 69:#values in this range satisfy a hold condition\n",
    "        m.append(2) #sell    \n",
    "    elif Indicator['STOK'][i] >= 70:#values in this range satisfy a sell condition\n",
    "        m.append(3) #sell\n",
    "    else:\n",
    "        m.append(2) #hold\n",
    "Indicator['STO_sig'] = m"
   ]
  },
  {
   "cell_type": "code",
   "execution_count": 17,
   "metadata": {},
   "outputs": [
    {
     "data": {
      "image/png": "[encoded data removed]",
      "text/plain": [
       "<Figure size 432x288 with 1 Axes>"
      ]
     },
     "metadata": {
      "needs_background": "light"
     },
     "output_type": "display_data"
    },
    {
     "data": {
      "text/plain": [
       "2    143\n",
       "1      5\n",
       "3      1\n",
       "Name: STO_sig, dtype: int64"
      ]
     },
     "execution_count": 17,
     "metadata": {},
     "output_type": "execute_result"
    }
   ],
   "source": [
    "sns.countplot(x = 'STO_sig', data=pd.DataFrame(Indicator), hue='STO_sig')#plots frequency of signals\n",
    "plt.savefig(\"stan_stocount\")\n",
    "plt.show()\n",
    "Indicator['STO_sig'].value_counts()#counts according to signal"
   ]
  },
  {
   "cell_type": "code",
   "execution_count": 18,
   "metadata": {},
   "outputs": [
    {
     "data": {
      "image/png": "[encoded data removed]",
      "text/plain": [
       "<Figure size 432x288 with 1 Axes>"
      ]
     },
     "metadata": {
      "needs_background": "light"
     },
     "output_type": "display_data"
    }
   ],
   "source": [
    "#graphical presentation of the indicator\n",
    "t = Indicator['STOD']\n",
    "j = Indicator['STOK']\n",
    "u = plt.plot(t, label = 'STOD')\n",
    "s = plt.plot(j, label = 'STOK')\n",
    "h = [0,160]\n",
    "b = [20,20]\n",
    "e = [70,70]\n",
    "g = plt.plot(h,e,h,b) + u + s\n",
    "plt.ylabel('Threshold value')\n",
    "plt.xlabel('Days')\n",
    "plt.legend()\n",
    "plt.savefig(\"stan_sto\")\n",
    "plt.show()"
   ]
  },
  {
   "cell_type": "code",
   "execution_count": 19,
   "metadata": {},
   "outputs": [],
   "source": [
    "Indicator['EMA_10'] = Indicator['Close'].ewm(span=10,adjust=False,min_periods=1).mean() #10day exponential ma\n",
    "Indicator['EMA_30'] = Indicator['Close'].ewm(span=20,adjust=False,min_periods=1).mean() #30day exponential ma\n",
    "Indicator['EMA_90'] = Indicator['Close'].ewm(span=90,adjust=False,min_periods=1).mean() #90day exponential ma"
   ]
  },
  {
   "cell_type": "code",
   "execution_count": 20,
   "metadata": {},
   "outputs": [],
   "source": [
    "# append 1 for a buy, 0 for a sell and 2 for hold and NaN\n",
    "n = []\n",
    "for i in range (len(Indicator)):\n",
    "    if Indicator['EMA_10'][i] < Indicator['EMA_30'][i] and Indicator['EMA_90'][i]:#values in this range satisfy a buy condition\n",
    "        n.append(1) #buy\n",
    "    elif Indicator['EMA_10'][i] > Indicator['EMA_30'][i] and Indicator['EMA_90'][i]:#values in this range satisfy a hold condition\n",
    "        n.append(3) #sell\n",
    "    elif Indicator['EMA_10'][i] == Indicator['EMA_30'][i] == Indicator['EMA_90'][i]:#values in this range satisfy a sell condition\n",
    "        n.append(2)  #hold      \n",
    "    else:\n",
    "        n.append(2)#hold\n",
    "Indicator['EMA_sig'] = n     "
   ]
  },
  {
   "cell_type": "code",
   "execution_count": 21,
   "metadata": {},
   "outputs": [
    {
     "data": {
      "image/png": "[encoded data removed]",
      "text/plain": [
       "<Figure size 432x288 with 1 Axes>"
      ]
     },
     "metadata": {
      "needs_background": "light"
     },
     "output_type": "display_data"
    },
    {
     "data": {
      "text/plain": [
       "3    107\n",
       "1     41\n",
       "2      1\n",
       "Name: EMA_sig, dtype: int64"
      ]
     },
     "execution_count": 21,
     "metadata": {},
     "output_type": "execute_result"
    }
   ],
   "source": [
    "sns.countplot(x = 'EMA_sig', data=pd.DataFrame(Indicator), hue='EMA_sig')#plots frequency of signals\n",
    "plt.savefig(\"stan_emacount\")\n",
    "plt.show()\n",
    "Indicator['EMA_sig'].value_counts()#counts according to signal"
   ]
  },
  {
   "cell_type": "code",
   "execution_count": 22,
   "metadata": {},
   "outputs": [
    {
     "data": {
      "image/png": "[encoded data removed]",
      "text/plain": [
       "<Figure size 432x288 with 1 Axes>"
      ]
     },
     "metadata": {
      "needs_background": "light"
     },
     "output_type": "display_data"
    }
   ],
   "source": [
    "# buy if 10EMA line cuts the other two EMA lines from above and moves below both the EMAs\n",
    "# sell if 10EMA line cuts the other two EMA lines from below and moves above both the EMAs\n",
    "a = Indicator['EMA_10'] #10 day exponential moving average\n",
    "b = Indicator['EMA_30'] #30 day exponential moving average\n",
    "c = Indicator['EMA_90'] #90 day exponential moving average\n",
    "d = plt.plot(a, label = 'EMA_10' ) + plt.plot(b, label = 'EMA_30') + plt.plot(c, label = 'EMA_90')\n",
    "plt.ylabel('Threshold value')\n",
    "plt.xlabel('Days')\n",
    "plt.legend()\n",
    "plt.savefig(\"stan_ema\")\n",
    "plt.show(d)"
   ]
  },
  {
   "cell_type": "code",
   "execution_count": 23,
   "metadata": {},
   "outputs": [],
   "source": [
    "Indicator['26_ema'] = Indicator['Close'].ewm(span=26,adjust=True,ignore_na=False).mean() #26day ema\n",
    "Indicator['12_ema'] = Indicator['Close'].ewm(span=12,adjust=True,ignore_na=False).mean() #12day ema\n",
    "Indicator['MACD'] = Indicator['12_ema'] - Indicator['26_ema'] #macd\n",
    "Indicator['9EMA_MACD'] = Indicator['MACD'].ewm(span=9,adjust=True,ignore_na=False).mean() #9daymacd_ema\n",
    "#Indicator"
   ]
  },
  {
   "cell_type": "code",
   "execution_count": 24,
   "metadata": {},
   "outputs": [],
   "source": [
    "f = []\n",
    "for i in range (len(Indicator)):\n",
    "    if Indicator['MACD'][i] > Indicator['9EMA_MACD'][i]:#values in this range satisfy a buy condition\n",
    "        f.append(1) #buy\n",
    "    elif Indicator['MACD'][i] < Indicator['9EMA_MACD'][i]:#values in this range satisfy a sell condition\n",
    "        f.append(3) #sell     \n",
    "    else:\n",
    "        f.append(2)#hold\n",
    "Indicator['MACD_sig'] = f "
   ]
  },
  {
   "cell_type": "code",
   "execution_count": 25,
   "metadata": {},
   "outputs": [
    {
     "data": {
      "image/png": "[encoded data removed]",
      "text/plain": [
       "<Figure size 432x288 with 1 Axes>"
      ]
     },
     "metadata": {
      "needs_background": "light"
     },
     "output_type": "display_data"
    },
    {
     "data": {
      "text/plain": [
       "1    83\n",
       "3    65\n",
       "2     1\n",
       "Name: MACD_sig, dtype: int64"
      ]
     },
     "execution_count": 25,
     "metadata": {},
     "output_type": "execute_result"
    }
   ],
   "source": [
    "sns.countplot(x = 'MACD_sig', data=pd.DataFrame(Indicator), hue='MACD_sig')#plots frequency of signals\n",
    "plt.savefig(\"stan_macdcount\")\n",
    "plt.show()\n",
    "Indicator['MACD_sig'].value_counts()#counts according to signal"
   ]
  },
  {
   "cell_type": "code",
   "execution_count": 26,
   "metadata": {},
   "outputs": [
    {
     "data": {
      "image/png": "[encoded data removed]",
      "text/plain": [
       "<Figure size 432x288 with 1 Axes>"
      ]
     },
     "metadata": {
      "needs_background": "light"
     },
     "output_type": "display_data"
    }
   ],
   "source": [
    "#graphical presentation of the indicator\n",
    "q = Indicator['9EMA_MACD']\n",
    "e = Indicator['MACD']\n",
    "z = [0,160]\n",
    "x = [0,0]\n",
    "r = plt.plot(z,x)+ plt.plot(e, label = 'MACD') +plt.plot(q, label = '9EMA_MACD')\n",
    "plt.ylabel('Threshold value')\n",
    "plt.xlabel('Days')\n",
    "plt.legend()\n",
    "plt.savefig(\"stan_macd\")\n",
    "plt.show(r)"
   ]
  },
  {
   "cell_type": "code",
   "execution_count": 27,
   "metadata": {},
   "outputs": [],
   "source": [
    "#changing to array format for easy adding\n",
    "new1 = Indicator['RSI_sig'].to_numpy()\n",
    "new2 = Indicator['MACD_sig'].to_numpy()\n",
    "new3 = Indicator['EMA_sig'].to_numpy()\n",
    "new4 = Indicator['STO_sig'].to_numpy()"
   ]
  },
  {
   "cell_type": "code",
   "execution_count": 28,
   "metadata": {},
   "outputs": [],
   "source": [
    "b = []\n",
    "for i in range (len(new2)):\n",
    "    if new1[i] + new2[i] + new3[i] + new4[i] <= 6:#values in this range satisfy a buy decision\n",
    "        b.append(1)\n",
    "    elif new1[i] + new2[i] + new3[i] + new4[i] >=10:#values in this range satisfy a sell decision\n",
    "        b.append(3)\n",
    "    else:\n",
    "        b.append(2)#hold\n",
    "new5 = pd.Series(b)  \n",
    "#new5"
   ]
  },
  {
   "cell_type": "code",
   "execution_count": 29,
   "metadata": {},
   "outputs": [
    {
     "data": {
      "text/html": [
       "<div>\n",
       "<style scoped>\n",
       "    .dataframe tbody tr th:only-of-type {\n",
       "        vertical-align: middle;\n",
       "    }\n",
       "\n",
       "    .dataframe tbody tr th {\n",
       "        vertical-align: top;\n",
       "    }\n",
       "\n",
       "    .dataframe thead th {\n",
       "        text-align: right;\n",
       "    }\n",
       "</style>\n",
       "<table border=\"1\" class=\"dataframe\">\n",
       "  <thead>\n",
       "    <tr style=\"text-align: right;\">\n",
       "      <th></th>\n",
       "      <th>Date</th>\n",
       "      <th>High</th>\n",
       "      <th>Low</th>\n",
       "      <th>Open</th>\n",
       "      <th>Close</th>\n",
       "      <th>Direction</th>\n",
       "      <th>RSI_14D</th>\n",
       "      <th>RSI_sig</th>\n",
       "      <th>STOK</th>\n",
       "      <th>STOD</th>\n",
       "      <th>...</th>\n",
       "      <th>EMA_10</th>\n",
       "      <th>EMA_30</th>\n",
       "      <th>EMA_90</th>\n",
       "      <th>EMA_sig</th>\n",
       "      <th>26_ema</th>\n",
       "      <th>12_ema</th>\n",
       "      <th>MACD</th>\n",
       "      <th>9EMA_MACD</th>\n",
       "      <th>MACD_sig</th>\n",
       "      <th>Decision</th>\n",
       "    </tr>\n",
       "  </thead>\n",
       "  <tbody>\n",
       "    <tr>\n",
       "      <th>0</th>\n",
       "      <td>2020-01-31</td>\n",
       "      <td>16198.0</td>\n",
       "      <td>15748.0</td>\n",
       "      <td>16115.0</td>\n",
       "      <td>15748.0</td>\n",
       "      <td>NaN</td>\n",
       "      <td>NaN</td>\n",
       "      <td>2</td>\n",
       "      <td>NaN</td>\n",
       "      <td>NaN</td>\n",
       "      <td>...</td>\n",
       "      <td>15748.000000</td>\n",
       "      <td>15748.000000</td>\n",
       "      <td>15748.000000</td>\n",
       "      <td>2</td>\n",
       "      <td>15748.000000</td>\n",
       "      <td>15748.000000</td>\n",
       "      <td>0.000000</td>\n",
       "      <td>0.000000</td>\n",
       "      <td>2</td>\n",
       "      <td>2</td>\n",
       "    </tr>\n",
       "    <tr>\n",
       "      <th>1</th>\n",
       "      <td>2020-01-30</td>\n",
       "      <td>16273.0</td>\n",
       "      <td>15802.0</td>\n",
       "      <td>16120.0</td>\n",
       "      <td>16162.0</td>\n",
       "      <td>414.0</td>\n",
       "      <td>NaN</td>\n",
       "      <td>2</td>\n",
       "      <td>NaN</td>\n",
       "      <td>NaN</td>\n",
       "      <td>...</td>\n",
       "      <td>15823.272727</td>\n",
       "      <td>15787.428571</td>\n",
       "      <td>15757.098901</td>\n",
       "      <td>3</td>\n",
       "      <td>15962.961538</td>\n",
       "      <td>15972.250000</td>\n",
       "      <td>9.288462</td>\n",
       "      <td>5.160256</td>\n",
       "      <td>1</td>\n",
       "      <td>2</td>\n",
       "    </tr>\n",
       "    <tr>\n",
       "      <th>2</th>\n",
       "      <td>2020-01-29</td>\n",
       "      <td>16204.0</td>\n",
       "      <td>16007.0</td>\n",
       "      <td>16015.0</td>\n",
       "      <td>16121.0</td>\n",
       "      <td>-41.0</td>\n",
       "      <td>NaN</td>\n",
       "      <td>2</td>\n",
       "      <td>NaN</td>\n",
       "      <td>NaN</td>\n",
       "      <td>...</td>\n",
       "      <td>15877.404959</td>\n",
       "      <td>15819.197279</td>\n",
       "      <td>15765.096727</td>\n",
       "      <td>3</td>\n",
       "      <td>16019.743223</td>\n",
       "      <td>16030.307159</td>\n",
       "      <td>10.563936</td>\n",
       "      <td>7.374879</td>\n",
       "      <td>1</td>\n",
       "      <td>2</td>\n",
       "    </tr>\n",
       "    <tr>\n",
       "      <th>3</th>\n",
       "      <td>2020-01-28</td>\n",
       "      <td>16137.0</td>\n",
       "      <td>15803.0</td>\n",
       "      <td>16137.0</td>\n",
       "      <td>15990.0</td>\n",
       "      <td>-131.0</td>\n",
       "      <td>NaN</td>\n",
       "      <td>2</td>\n",
       "      <td>NaN</td>\n",
       "      <td>NaN</td>\n",
       "      <td>...</td>\n",
       "      <td>15897.876784</td>\n",
       "      <td>15835.464205</td>\n",
       "      <td>15770.039657</td>\n",
       "      <td>3</td>\n",
       "      <td>16011.428318</td>\n",
       "      <td>16017.583764</td>\n",
       "      <td>6.155447</td>\n",
       "      <td>6.961792</td>\n",
       "      <td>3</td>\n",
       "      <td>3</td>\n",
       "    </tr>\n",
       "    <tr>\n",
       "      <th>4</th>\n",
       "      <td>2020-01-27</td>\n",
       "      <td>16300.0</td>\n",
       "      <td>15809.0</td>\n",
       "      <td>16300.0</td>\n",
       "      <td>15965.0</td>\n",
       "      <td>-25.0</td>\n",
       "      <td>NaN</td>\n",
       "      <td>2</td>\n",
       "      <td>NaN</td>\n",
       "      <td>NaN</td>\n",
       "      <td>...</td>\n",
       "      <td>15910.081005</td>\n",
       "      <td>15847.800947</td>\n",
       "      <td>15774.324499</td>\n",
       "      <td>3</td>\n",
       "      <td>16000.661399</td>\n",
       "      <td>16003.296944</td>\n",
       "      <td>2.635544</td>\n",
       "      <td>5.674831</td>\n",
       "      <td>3</td>\n",
       "      <td>3</td>\n",
       "    </tr>\n",
       "    <tr>\n",
       "      <th>...</th>\n",
       "      <td>...</td>\n",
       "      <td>...</td>\n",
       "      <td>...</td>\n",
       "      <td>...</td>\n",
       "      <td>...</td>\n",
       "      <td>...</td>\n",
       "      <td>...</td>\n",
       "      <td>...</td>\n",
       "      <td>...</td>\n",
       "      <td>...</td>\n",
       "      <td>...</td>\n",
       "      <td>...</td>\n",
       "      <td>...</td>\n",
       "      <td>...</td>\n",
       "      <td>...</td>\n",
       "      <td>...</td>\n",
       "      <td>...</td>\n",
       "      <td>...</td>\n",
       "      <td>...</td>\n",
       "      <td>...</td>\n",
       "      <td>...</td>\n",
       "    </tr>\n",
       "    <tr>\n",
       "      <th>144</th>\n",
       "      <td>2019-07-05</td>\n",
       "      <td>19235.0</td>\n",
       "      <td>18754.0</td>\n",
       "      <td>19100.0</td>\n",
       "      <td>18896.0</td>\n",
       "      <td>-151.0</td>\n",
       "      <td>56.990205</td>\n",
       "      <td>2</td>\n",
       "      <td>19.758249</td>\n",
       "      <td>24.401514</td>\n",
       "      <td>...</td>\n",
       "      <td>18847.396249</td>\n",
       "      <td>18627.499706</td>\n",
       "      <td>17864.674088</td>\n",
       "      <td>3</td>\n",
       "      <td>18504.831443</td>\n",
       "      <td>18810.143654</td>\n",
       "      <td>305.312211</td>\n",
       "      <td>334.386280</td>\n",
       "      <td>3</td>\n",
       "      <td>3</td>\n",
       "    </tr>\n",
       "    <tr>\n",
       "      <th>145</th>\n",
       "      <td>2019-07-04</td>\n",
       "      <td>19460.0</td>\n",
       "      <td>19139.0</td>\n",
       "      <td>19373.0</td>\n",
       "      <td>19154.0</td>\n",
       "      <td>258.0</td>\n",
       "      <td>52.554028</td>\n",
       "      <td>2</td>\n",
       "      <td>30.839480</td>\n",
       "      <td>24.601744</td>\n",
       "      <td>...</td>\n",
       "      <td>18903.142386</td>\n",
       "      <td>18677.642591</td>\n",
       "      <td>17893.010921</td>\n",
       "      <td>3</td>\n",
       "      <td>18552.918637</td>\n",
       "      <td>18863.044630</td>\n",
       "      <td>310.125993</td>\n",
       "      <td>329.534222</td>\n",
       "      <td>3</td>\n",
       "      <td>3</td>\n",
       "    </tr>\n",
       "    <tr>\n",
       "      <th>146</th>\n",
       "      <td>2019-07-03</td>\n",
       "      <td>19456.0</td>\n",
       "      <td>19118.0</td>\n",
       "      <td>19450.0</td>\n",
       "      <td>19263.0</td>\n",
       "      <td>109.0</td>\n",
       "      <td>50.529191</td>\n",
       "      <td>2</td>\n",
       "      <td>39.305329</td>\n",
       "      <td>26.239694</td>\n",
       "      <td>...</td>\n",
       "      <td>18968.571043</td>\n",
       "      <td>18733.390916</td>\n",
       "      <td>17923.120571</td>\n",
       "      <td>3</td>\n",
       "      <td>18605.517899</td>\n",
       "      <td>18924.576226</td>\n",
       "      <td>319.058327</td>\n",
       "      <td>327.439043</td>\n",
       "      <td>3</td>\n",
       "      <td>3</td>\n",
       "    </tr>\n",
       "    <tr>\n",
       "      <th>147</th>\n",
       "      <td>2019-07-02</td>\n",
       "      <td>19887.0</td>\n",
       "      <td>19110.0</td>\n",
       "      <td>19887.0</td>\n",
       "      <td>19464.0</td>\n",
       "      <td>201.0</td>\n",
       "      <td>51.338695</td>\n",
       "      <td>2</td>\n",
       "      <td>39.872551</td>\n",
       "      <td>28.444169</td>\n",
       "      <td>...</td>\n",
       "      <td>19058.649035</td>\n",
       "      <td>18802.972733</td>\n",
       "      <td>17956.986053</td>\n",
       "      <td>3</td>\n",
       "      <td>18669.109884</td>\n",
       "      <td>19007.564499</td>\n",
       "      <td>338.454614</td>\n",
       "      <td>329.642158</td>\n",
       "      <td>1</td>\n",
       "      <td>2</td>\n",
       "    </tr>\n",
       "    <tr>\n",
       "      <th>148</th>\n",
       "      <td>2019-07-01</td>\n",
       "      <td>20158.0</td>\n",
       "      <td>19674.0</td>\n",
       "      <td>19994.0</td>\n",
       "      <td>19674.0</td>\n",
       "      <td>210.0</td>\n",
       "      <td>51.279176</td>\n",
       "      <td>2</td>\n",
       "      <td>44.612783</td>\n",
       "      <td>30.926488</td>\n",
       "      <td>...</td>\n",
       "      <td>19170.531029</td>\n",
       "      <td>18885.927711</td>\n",
       "      <td>17994.722623</td>\n",
       "      <td>3</td>\n",
       "      <td>18743.546968</td>\n",
       "      <td>19110.093037</td>\n",
       "      <td>366.546069</td>\n",
       "      <td>337.022940</td>\n",
       "      <td>1</td>\n",
       "      <td>2</td>\n",
       "    </tr>\n",
       "  </tbody>\n",
       "</table>\n",
       "<p>149 rows × 21 columns</p>\n",
       "</div>"
      ],
      "text/plain": [
       "0         Date     High      Low     Open    Close  Direction    RSI_14D  \\\n",
       "0   2020-01-31  16198.0  15748.0  16115.0  15748.0        NaN        NaN   \n",
       "1   2020-01-30  16273.0  15802.0  16120.0  16162.0      414.0        NaN   \n",
       "2   2020-01-29  16204.0  16007.0  16015.0  16121.0      -41.0        NaN   \n",
       "3   2020-01-28  16137.0  15803.0  16137.0  15990.0     -131.0        NaN   \n",
       "4   2020-01-27  16300.0  15809.0  16300.0  15965.0      -25.0        NaN   \n",
       "..         ...      ...      ...      ...      ...        ...        ...   \n",
       "144 2019-07-05  19235.0  18754.0  19100.0  18896.0     -151.0  56.990205   \n",
       "145 2019-07-04  19460.0  19139.0  19373.0  19154.0      258.0  52.554028   \n",
       "146 2019-07-03  19456.0  19118.0  19450.0  19263.0      109.0  50.529191   \n",
       "147 2019-07-02  19887.0  19110.0  19887.0  19464.0      201.0  51.338695   \n",
       "148 2019-07-01  20158.0  19674.0  19994.0  19674.0      210.0  51.279176   \n",
       "\n",
       "0    RSI_sig       STOK       STOD  ...        EMA_10        EMA_30  \\\n",
       "0          2        NaN        NaN  ...  15748.000000  15748.000000   \n",
       "1          2        NaN        NaN  ...  15823.272727  15787.428571   \n",
       "2          2        NaN        NaN  ...  15877.404959  15819.197279   \n",
       "3          2        NaN        NaN  ...  15897.876784  15835.464205   \n",
       "4          2        NaN        NaN  ...  15910.081005  15847.800947   \n",
       "..       ...        ...        ...  ...           ...           ...   \n",
       "144        2  19.758249  24.401514  ...  18847.396249  18627.499706   \n",
       "145        2  30.839480  24.601744  ...  18903.142386  18677.642591   \n",
       "146        2  39.305329  26.239694  ...  18968.571043  18733.390916   \n",
       "147        2  39.872551  28.444169  ...  19058.649035  18802.972733   \n",
       "148        2  44.612783  30.926488  ...  19170.531029  18885.927711   \n",
       "\n",
       "0          EMA_90  EMA_sig        26_ema        12_ema        MACD  \\\n",
       "0    15748.000000        2  15748.000000  15748.000000    0.000000   \n",
       "1    15757.098901        3  15962.961538  15972.250000    9.288462   \n",
       "2    15765.096727        3  16019.743223  16030.307159   10.563936   \n",
       "3    15770.039657        3  16011.428318  16017.583764    6.155447   \n",
       "4    15774.324499        3  16000.661399  16003.296944    2.635544   \n",
       "..            ...      ...           ...           ...         ...   \n",
       "144  17864.674088        3  18504.831443  18810.143654  305.312211   \n",
       "145  17893.010921        3  18552.918637  18863.044630  310.125993   \n",
       "146  17923.120571        3  18605.517899  18924.576226  319.058327   \n",
       "147  17956.986053        3  18669.109884  19007.564499  338.454614   \n",
       "148  17994.722623        3  18743.546968  19110.093037  366.546069   \n",
       "\n",
       "0     9EMA_MACD  MACD_sig  Decision  \n",
       "0      0.000000         2         2  \n",
       "1      5.160256         1         2  \n",
       "2      7.374879         1         2  \n",
       "3      6.961792         3         3  \n",
       "4      5.674831         3         3  \n",
       "..          ...       ...       ...  \n",
       "144  334.386280         3         3  \n",
       "145  329.534222         3         3  \n",
       "146  327.439043         3         3  \n",
       "147  329.642158         1         2  \n",
       "148  337.022940         1         2  \n",
       "\n",
       "[149 rows x 21 columns]"
      ]
     },
     "execution_count": 29,
     "metadata": {},
     "output_type": "execute_result"
    }
   ],
   "source": [
    "Indicator['Decision'] = new5\n",
    "Indicator"
   ]
  },
  {
   "cell_type": "code",
   "execution_count": 30,
   "metadata": {},
   "outputs": [
    {
     "data": {
      "image/png": "[encoded data removed]",
      "text/plain": [
       "<Figure size 432x288 with 1 Axes>"
      ]
     },
     "metadata": {
      "needs_background": "light"
     },
     "output_type": "display_data"
    },
    {
     "data": {
      "text/plain": [
       "2    113\n",
       "3     30\n",
       "1      6\n",
       "Name: Decision, dtype: int64"
      ]
     },
     "execution_count": 30,
     "metadata": {},
     "output_type": "execute_result"
    }
   ],
   "source": [
    "sns.countplot(x = 'Decision', data=pd.DataFrame(Indicator), hue='Decision')#plots frequency of signals\n",
    "plt.savefig(\"stan_decision\")\n",
    "plt.show()\n",
    "Indicator['Decision'].value_counts()#counts according to signal"
   ]
  },
  {
   "cell_type": "code",
   "execution_count": 31,
   "metadata": {},
   "outputs": [
    {
     "data": {
      "text/plain": [
       "2    75.838926\n",
       "3    20.134228\n",
       "1     4.026846\n",
       "Name: Decision, dtype: float64"
      ]
     },
     "execution_count": 31,
     "metadata": {},
     "output_type": "execute_result"
    }
   ],
   "source": [
    "Indicator['Decision'].value_counts(normalize=True) * 100 #calculates signal frequency in percentage"
   ]
  },
  {
   "cell_type": "code",
   "execution_count": null,
   "metadata": {},
   "outputs": [],
   "source": []
  },
  {
   "cell_type": "code",
   "execution_count": null,
   "metadata": {},
   "outputs": [],
   "source": []
  }
 ],
 "metadata": {
  "kernelspec": {
   "display_name": "Python 3",
   "language": "python",
   "name": "python3"
  },
  "language_info": {
   "codemirror_mode": {
    "name": "ipython",
    "version": 3
   },
   "file_extension": ".py",
   "mimetype": "text/x-python",
   "name": "python",
   "nbconvert_exporter": "python",
   "pygments_lexer": "ipython3",
   "version": "3.7.3"
  }
 },
 "nbformat": 4,
 "nbformat_minor": 5
}
